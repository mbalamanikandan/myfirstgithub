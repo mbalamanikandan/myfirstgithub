{
  "nbformat": 4,
  "nbformat_minor": 0,
  "metadata": {
    "colab": {
      "name": "NN_DNN_Autonomous Vehicles_Project2.ipynb",
      "provenance": [],
      "collapsed_sections": [],
      "authorship_tag": "ABX9TyOPwXgDDiGI8y4tfkBmQGtW",
      "include_colab_link": true
    },
    "kernelspec": {
      "name": "python3",
      "display_name": "Python 3"
    }
  },
  "cells": [
    {
      "cell_type": "markdown",
      "metadata": {
        "id": "view-in-github",
        "colab_type": "text"
      },
      "source": [
        "<a href=\"https://colab.research.google.com/github/mbalamanikandan/myfirstgithub/blob/master/NN_DNN_Autonomous_Vehicles_Project2.ipynb\" target=\"_parent\"><img src=\"https://colab.research.google.com/assets/colab-badge.svg\" alt=\"Open In Colab\"/></a>"
      ]
    },
    {
      "cell_type": "markdown",
      "metadata": {
        "id": "moD32j58kYwE"
      },
      "source": [
        "1. Import the data"
      ]
    },
    {
      "cell_type": "code",
      "metadata": {
        "colab": {
          "base_uri": "https://localhost:8080/"
        },
        "id": "tadsvPSkkSqd",
        "outputId": "20b21c54-7091-4cca-ee35-4c8bff932420"
      },
      "source": [
        "#Mount the drive \r\n",
        "from google.colab import drive\r\n",
        "drive.mount('/content/drive/')"
      ],
      "execution_count": 7,
      "outputs": [
        {
          "output_type": "stream",
          "text": [
            "Mounted at /content/drive/\n"
          ],
          "name": "stdout"
        }
      ]
    },
    {
      "cell_type": "code",
      "metadata": {
        "id": "dVjSadFak2cI"
      },
      "source": [
        "import pandas as pd\r\n",
        "import numpy as np\r\n",
        "import h5py"
      ],
      "execution_count": 8,
      "outputs": []
    },
    {
      "cell_type": "code",
      "metadata": {
        "id": "pLuxglGglFQM"
      },
      "source": [
        "data = h5py.File('/content/drive/MyDrive/AIML/NN_Project/Autonomous_Vehicles_SVHN_single_grey1.h5', 'r')"
      ],
      "execution_count": 9,
      "outputs": []
    },
    {
      "cell_type": "code",
      "metadata": {
        "colab": {
          "base_uri": "https://localhost:8080/"
        },
        "id": "DRFmqQR5pYMN",
        "outputId": "8ec7b07c-736f-4e3a-bbef-1744aa772248"
      },
      "source": [
        "# Referemce https://www.christopherlovell.co.uk/blog/2016/04/27/h5py-intro.html\r\n",
        "data.keys()"
      ],
      "execution_count": 10,
      "outputs": [
        {
          "output_type": "execute_result",
          "data": {
            "text/plain": [
              "<KeysViewHDF5 ['X_test', 'X_train', 'X_val', 'y_test', 'y_train', 'y_val']>"
            ]
          },
          "metadata": {
            "tags": []
          },
          "execution_count": 10
        }
      ]
    },
    {
      "cell_type": "code",
      "metadata": {
        "id": "iGO_9J4arWo-"
      },
      "source": [
        "#Read test, train and validation data\r\n",
        "xtest = data.get('/X_test')\r\n",
        "xtrain = data.get('/X_train')\r\n",
        "x_val = data.get('/X_test')\r\n",
        "ytest = data.get('/y_test')\r\n",
        "ytrain = data.get('/y_train')\r\n",
        "y_val = data.get ('/y_val')"
      ],
      "execution_count": 11,
      "outputs": []
    },
    {
      "cell_type": "markdown",
      "metadata": {
        "id": "FFvDgB3zyYB2"
      },
      "source": [
        "2. Data pre-processing and visualisation."
      ]
    },
    {
      "cell_type": "code",
      "metadata": {
        "id": "E790fdGTzTwF"
      },
      "source": [
        "import matplotlib.pyplot as plt"
      ],
      "execution_count": 12,
      "outputs": []
    },
    {
      "cell_type": "code",
      "metadata": {
        "colab": {
          "base_uri": "https://localhost:8080/"
        },
        "id": "DG8nmcpexpTe",
        "outputId": "508daa59-7fe2-4f56-8f8b-83e3426d55aa"
      },
      "source": [
        "#check the shapes\r\n",
        "print (\"X_test shape\", xtest.shape)\r\n",
        "print (\"x_train shape\", xtrain.shape)\r\n",
        "print (\"x_val shape\", x_val.shape)\r\n",
        "print (\"y_test shape\", ytest.shape)\r\n",
        "print (\"y_train shape\", ytrain.shape)\r\n",
        "print (\"y_val shape\", y_val.shape)\r\n"
      ],
      "execution_count": 13,
      "outputs": [
        {
          "output_type": "stream",
          "text": [
            "X_test shape (18000, 32, 32)\n",
            "x_train shape (42000, 32, 32)\n",
            "x_val shape (18000, 32, 32)\n",
            "y_test shape (18000,)\n",
            "y_train shape (42000,)\n",
            "y_val shape (60000,)\n"
          ],
          "name": "stdout"
        }
      ]
    },
    {
      "cell_type": "markdown",
      "metadata": {
        "id": "JZkYFH9N0e43"
      },
      "source": [
        "2.1 Check few images"
      ]
    },
    {
      "cell_type": "code",
      "metadata": {
        "colab": {
          "base_uri": "https://localhost:8080/",
          "height": 283
        },
        "id": "encohKFHzLHe",
        "outputId": "d1acc52d-65d5-4b36-88e7-42486c579dda"
      },
      "source": [
        "# check images from x_train and y_train => both must be same\r\n",
        "n = 2\r\n",
        "plt.imshow(xtrain [n], cmap='gray')\r\n",
        "print (\"y_train:\", ytrain[2])"
      ],
      "execution_count": 14,
      "outputs": [
        {
          "output_type": "stream",
          "text": [
            "y_train: 7\n"
          ],
          "name": "stdout"
        },
        {
          "output_type": "display_data",
          "data": {
            "image/png": "[encoded data removed]",
            "text/plain": [
              "<Figure size 432x288 with 1 Axes>"
            ]
          },
          "metadata": {
            "tags": [],
            "needs_background": "light"
          }
        }
      ]
    },
    {
      "cell_type": "code",
      "metadata": {
        "colab": {
          "base_uri": "https://localhost:8080/",
          "height": 283
        },
        "id": "MQEWCeLx0vLL",
        "outputId": "7d13fce1-a99c-431a-c7fc-68b3ba71afa8"
      },
      "source": [
        "# check images from x_test and y_test => both must be same\r\n",
        "n = 2\r\n",
        "plt.imshow(xtest [n], cmap='gray')\r\n",
        "print (\"Y_test:\", ytest[2])"
      ],
      "execution_count": 15,
      "outputs": [
        {
          "output_type": "stream",
          "text": [
            "Y_test: 2\n"
          ],
          "name": "stdout"
        },
        {
          "output_type": "display_data",
          "data": {
            "image/png": "[encoded data removed]",
            "text/plain": [
              "<Figure size 432x288 with 1 Axes>"
            ]
          },
          "metadata": {
            "tags": [],
            "needs_background": "light"
          }
        }
      ]
    },
    {
      "cell_type": "code",
      "metadata": {
        "colab": {
          "base_uri": "https://localhost:8080/",
          "height": 283
        },
        "id": "auNFJEXf0I0O",
        "outputId": "b7195d14-60de-4496-ff45-877f1c8732f2"
      },
      "source": [
        "# check images from x_val and y_val. x_val (18000) and y_val (60000) shape is not matching. Hence, they will not be same on same index. Not useful for Model build.\r\n",
        "n =17000\r\n",
        "plt.imshow(x_val[n], cmap='gray')\r\n",
        "print (\"y_val:\", y_val[n])"
      ],
      "execution_count": 16,
      "outputs": [
        {
          "output_type": "stream",
          "text": [
            "y_val: 4\n"
          ],
          "name": "stdout"
        },
        {
          "output_type": "display_data",
          "data": {
            "image/png": "[encoded data removed]",
            "text/plain": [
              "<Figure size 432x288 with 1 Axes>"
            ]
          },
          "metadata": {
            "tags": [],
            "needs_background": "light"
          }
        }
      ]
    },
    {
      "cell_type": "markdown",
      "metadata": {
        "id": "r65AKRrK3fh_"
      },
      "source": [
        "x_train, y_train, x_test and y_test will be used for building the model"
      ]
    },
    {
      "cell_type": "code",
      "metadata": {
        "colab": {
          "base_uri": "https://localhost:8080/"
        },
        "id": "akPL0yFE4rDF",
        "outputId": "e3f55001-cfa4-4c91-c44e-bf1cf4f4451a"
      },
      "source": [
        "#Find the number of labels in y_train and y_test\r\n",
        "L=pd.DataFrame(ytrain)\r\n",
        "L[0].value_counts()"
      ],
      "execution_count": 17,
      "outputs": [
        {
          "output_type": "execute_result",
          "data": {
            "text/plain": [
              "3    4281\n",
              "5    4232\n",
              "2    4197\n",
              "9    4196\n",
              "7    4192\n",
              "8    4188\n",
              "4    4188\n",
              "0    4186\n",
              "1    4172\n",
              "6    4168\n",
              "Name: 0, dtype: int64"
            ]
          },
          "metadata": {
            "tags": []
          },
          "execution_count": 17
        }
      ]
    },
    {
      "cell_type": "code",
      "metadata": {
        "colab": {
          "base_uri": "https://localhost:8080/"
        },
        "id": "MNY0LRgP49uN",
        "outputId": "bc8bbd54-9298-474c-b5dd-8e873c4fa3e5"
      },
      "source": [
        "L=pd.DataFrame(ytest)\r\n",
        "L[0].value_counts()"
      ],
      "execution_count": 18,
      "outputs": [
        {
          "output_type": "execute_result",
          "data": {
            "text/plain": [
              "6    1832\n",
              "1    1828\n",
              "0    1814\n",
              "8    1812\n",
              "4    1812\n",
              "7    1808\n",
              "9    1804\n",
              "2    1803\n",
              "5    1768\n",
              "3    1719\n",
              "Name: 0, dtype: int64"
            ]
          },
          "metadata": {
            "tags": []
          },
          "execution_count": 18
        }
      ]
    },
    {
      "cell_type": "code",
      "metadata": {
        "id": "9-shv_Jym2QN"
      },
      "source": [
        "#change the data type of x_train and y_train  to numpy array\r\n",
        "x_train = np.array (xtrain)\r\n",
        "y_train = np.array (ytrain)\r\n",
        "x_test = np.array (xtest)\r\n",
        "y_test = np.array(ytest)"
      ],
      "execution_count": 19,
      "outputs": []
    },
    {
      "cell_type": "code",
      "metadata": {
        "id": "PRo2AIWD3-KW"
      },
      "source": [
        "#convert the y_train and y_test to catagorical labels\r\n",
        "from tensorflow import keras\r\n",
        "\r\n",
        "y_train = keras.utils.to_categorical(y_train, 10)\r\n",
        "y_test = keras.utils.to_categorical(y_test, 10)"
      ],
      "execution_count": 20,
      "outputs": []
    },
    {
      "cell_type": "markdown",
      "metadata": {
        "id": "aWbrS7g33qZt"
      },
      "source": [
        "3. Design, train, tune and test a neural network image classifier"
      ]
    },
    {
      "cell_type": "code",
      "metadata": {
        "id": "2BEaND4jt58d"
      },
      "source": [
        "import tensorflow as tf\r\n",
        "from tensorflow.keras import Sequential\r\n",
        "from tensorflow.keras.layers import Flatten\r\n",
        "from tensorflow.keras.layers import Dense"
      ],
      "execution_count": 21,
      "outputs": []
    },
    {
      "cell_type": "code",
      "metadata": {
        "id": "-TfvIl2w4Wm1"
      },
      "source": [
        "#initilaize the model \r\n",
        "model = tf.keras.models.Sequential()"
      ],
      "execution_count": 22,
      "outputs": []
    },
    {
      "cell_type": "code",
      "metadata": {
        "id": "dnU4tF087Awn"
      },
      "source": [
        "#Reshape the data (following rehsape method does the same as Flatten). each cell has 32, 32 -> 32*32 = 1024\r\n",
        "model.add (tf.keras.layers.Reshape( (1024,), input_shape=(32,32,)))"
      ],
      "execution_count": 23,
      "outputs": []
    },
    {
      "cell_type": "code",
      "metadata": {
        "id": "inFJelW56xk-"
      },
      "source": [
        "#normalize data\r\n",
        "model.add(tf.keras.layers.BatchNormalization())\r\n",
        "\r\n",
        "# Add Fully connected layer \r\n",
        "model.add(tf.keras.layers.Dense (100, activation='relu'))\r\n",
        "model.add(tf.keras.layers.Dense (100, activation='relu'))\r\n",
        "#model.add(tf.keras.layers.Dropout(rate=0.2))\r\n",
        "\r\n",
        "#Add output layer \r\n",
        "model.add(tf.keras.layers.Dense (10, activation='softmax'))"
      ],
      "execution_count": 24,
      "outputs": []
    },
    {
      "cell_type": "code",
      "metadata": {
        "id": "QIe65frP7iUF"
      },
      "source": [
        "#Complie the model with loss and optimizer\r\n",
        "model.compile(optimizer='adam',\r\n",
        "              loss=tf.keras.losses.CategoricalCrossentropy(from_logits=True),\r\n",
        "              metrics=['accuracy'])"
      ],
      "execution_count": 25,
      "outputs": []
    },
    {
      "cell_type": "code",
      "metadata": {
        "colab": {
          "base_uri": "https://localhost:8080/"
        },
        "id": "J5MevZ3X7uA9",
        "outputId": "cefa88fc-593e-42bc-fbc4-4c9ae5d52d6a"
      },
      "source": [
        "#FIt the model \r\n",
        "#history = model.fit (x_train, y_train, validation_data=(x_test, y_test), epochs=200, batch_size=128)\r\n",
        "history = model.fit(x_train, y_train, epochs=500, batch_size=512, validation_split=.3, verbose=1)"
      ],
      "execution_count": 26,
      "outputs": [
        {
          "output_type": "stream",
          "text": [
            "Epoch 1/500\n",
            "58/58 [==============================] - 2s 26ms/step - loss: 2.1682 - accuracy: 0.2436 - val_loss: 1.5035 - val_accuracy: 0.5338\n",
            "Epoch 2/500\n",
            "58/58 [==============================] - 2s 26ms/step - loss: 1.2321 - accuracy: 0.6256 - val_loss: 1.1599 - val_accuracy: 0.6452\n",
            "Epoch 3/500\n",
            "58/58 [==============================] - 2s 28ms/step - loss: 0.9993 - accuracy: 0.6975 - val_loss: 0.9452 - val_accuracy: 0.7145\n",
            "Epoch 4/500\n",
            "58/58 [==============================] - 2s 29ms/step - loss: 0.8574 - accuracy: 0.7413 - val_loss: 0.8526 - val_accuracy: 0.7468\n",
            "Epoch 5/500\n",
            "58/58 [==============================] - 2s 28ms/step - loss: 0.7814 - accuracy: 0.7655 - val_loss: 0.8052 - val_accuracy: 0.7602\n",
            "Epoch 6/500\n",
            "58/58 [==============================] - 1s 20ms/step - loss: 0.7153 - accuracy: 0.7855 - val_loss: 0.7937 - val_accuracy: 0.7621\n",
            "Epoch 7/500\n",
            "58/58 [==============================] - 1s 17ms/step - loss: 0.6902 - accuracy: 0.7871 - val_loss: 0.7829 - val_accuracy: 0.7695\n",
            "Epoch 8/500\n",
            "58/58 [==============================] - 1s 19ms/step - loss: 0.6337 - accuracy: 0.8089 - val_loss: 0.7351 - val_accuracy: 0.7810\n",
            "Epoch 9/500\n",
            "58/58 [==============================] - 1s 20ms/step - loss: 0.6086 - accuracy: 0.8164 - val_loss: 0.7197 - val_accuracy: 0.7887\n",
            "Epoch 10/500\n",
            "58/58 [==============================] - 1s 18ms/step - loss: 0.5930 - accuracy: 0.8163 - val_loss: 0.6856 - val_accuracy: 0.8011\n",
            "Epoch 11/500\n",
            "58/58 [==============================] - 1s 19ms/step - loss: 0.5457 - accuracy: 0.8334 - val_loss: 0.7288 - val_accuracy: 0.7945\n",
            "Epoch 12/500\n",
            "58/58 [==============================] - 1s 19ms/step - loss: 0.5445 - accuracy: 0.8313 - val_loss: 0.7078 - val_accuracy: 0.7953\n",
            "Epoch 13/500\n",
            "58/58 [==============================] - 1s 18ms/step - loss: 0.5165 - accuracy: 0.8421 - val_loss: 0.6713 - val_accuracy: 0.8080\n",
            "Epoch 14/500\n",
            "58/58 [==============================] - 1s 17ms/step - loss: 0.4856 - accuracy: 0.8522 - val_loss: 0.6860 - val_accuracy: 0.8033\n",
            "Epoch 15/500\n",
            "58/58 [==============================] - 1s 18ms/step - loss: 0.4711 - accuracy: 0.8533 - val_loss: 0.6608 - val_accuracy: 0.8144\n",
            "Epoch 16/500\n",
            "58/58 [==============================] - 1s 18ms/step - loss: 0.4581 - accuracy: 0.8592 - val_loss: 0.6878 - val_accuracy: 0.8060\n",
            "Epoch 17/500\n",
            "58/58 [==============================] - 1s 19ms/step - loss: 0.4468 - accuracy: 0.8623 - val_loss: 0.6527 - val_accuracy: 0.8148\n",
            "Epoch 18/500\n",
            "58/58 [==============================] - 1s 18ms/step - loss: 0.4191 - accuracy: 0.8729 - val_loss: 0.6552 - val_accuracy: 0.8164\n",
            "Epoch 19/500\n",
            "58/58 [==============================] - 1s 19ms/step - loss: 0.4200 - accuracy: 0.8716 - val_loss: 0.6564 - val_accuracy: 0.8180\n",
            "Epoch 20/500\n",
            "58/58 [==============================] - 1s 18ms/step - loss: 0.4105 - accuracy: 0.8760 - val_loss: 0.6539 - val_accuracy: 0.8198\n",
            "Epoch 21/500\n",
            "58/58 [==============================] - 1s 18ms/step - loss: 0.3980 - accuracy: 0.8776 - val_loss: 0.6828 - val_accuracy: 0.8110\n",
            "Epoch 22/500\n",
            "58/58 [==============================] - 1s 18ms/step - loss: 0.3904 - accuracy: 0.8815 - val_loss: 0.6692 - val_accuracy: 0.8164\n",
            "Epoch 23/500\n",
            "58/58 [==============================] - 1s 19ms/step - loss: 0.3798 - accuracy: 0.8815 - val_loss: 0.6484 - val_accuracy: 0.8253\n",
            "Epoch 24/500\n",
            "58/58 [==============================] - 1s 18ms/step - loss: 0.3656 - accuracy: 0.8895 - val_loss: 0.6557 - val_accuracy: 0.8237\n",
            "Epoch 25/500\n",
            "58/58 [==============================] - 1s 18ms/step - loss: 0.3525 - accuracy: 0.8928 - val_loss: 0.6757 - val_accuracy: 0.8222\n",
            "Epoch 26/500\n",
            "58/58 [==============================] - 1s 19ms/step - loss: 0.3563 - accuracy: 0.8906 - val_loss: 0.6807 - val_accuracy: 0.8203\n",
            "Epoch 27/500\n",
            "58/58 [==============================] - 1s 19ms/step - loss: 0.3429 - accuracy: 0.8937 - val_loss: 0.6647 - val_accuracy: 0.8270\n",
            "Epoch 28/500\n",
            "58/58 [==============================] - 1s 19ms/step - loss: 0.3344 - accuracy: 0.8960 - val_loss: 0.6729 - val_accuracy: 0.8221\n",
            "Epoch 29/500\n",
            "58/58 [==============================] - 1s 18ms/step - loss: 0.3274 - accuracy: 0.8981 - val_loss: 0.6745 - val_accuracy: 0.8241\n",
            "Epoch 30/500\n",
            "58/58 [==============================] - 1s 19ms/step - loss: 0.3126 - accuracy: 0.9053 - val_loss: 0.6840 - val_accuracy: 0.8243\n",
            "Epoch 31/500\n",
            "58/58 [==============================] - 1s 18ms/step - loss: 0.3093 - accuracy: 0.9046 - val_loss: 0.6834 - val_accuracy: 0.8211\n",
            "Epoch 32/500\n",
            "58/58 [==============================] - 1s 18ms/step - loss: 0.3119 - accuracy: 0.9021 - val_loss: 0.6790 - val_accuracy: 0.8254\n",
            "Epoch 33/500\n",
            "58/58 [==============================] - 1s 19ms/step - loss: 0.3150 - accuracy: 0.9062 - val_loss: 0.7060 - val_accuracy: 0.8168\n",
            "Epoch 34/500\n",
            "58/58 [==============================] - 1s 19ms/step - loss: 0.2967 - accuracy: 0.9093 - val_loss: 0.6907 - val_accuracy: 0.8262\n",
            "Epoch 35/500\n",
            "58/58 [==============================] - 1s 18ms/step - loss: 0.2962 - accuracy: 0.9066 - val_loss: 0.6988 - val_accuracy: 0.8251\n",
            "Epoch 36/500\n",
            "58/58 [==============================] - 1s 19ms/step - loss: 0.2877 - accuracy: 0.9126 - val_loss: 0.7033 - val_accuracy: 0.8227\n",
            "Epoch 37/500\n",
            "58/58 [==============================] - 1s 19ms/step - loss: 0.2827 - accuracy: 0.9136 - val_loss: 0.7251 - val_accuracy: 0.8215\n",
            "Epoch 38/500\n",
            "58/58 [==============================] - 1s 18ms/step - loss: 0.2813 - accuracy: 0.9122 - val_loss: 0.7222 - val_accuracy: 0.8183\n",
            "Epoch 39/500\n",
            "58/58 [==============================] - 1s 19ms/step - loss: 0.2884 - accuracy: 0.9110 - val_loss: 0.7058 - val_accuracy: 0.8245\n",
            "Epoch 40/500\n",
            "58/58 [==============================] - 1s 19ms/step - loss: 0.2550 - accuracy: 0.9207 - val_loss: 0.7187 - val_accuracy: 0.8250\n",
            "Epoch 41/500\n",
            "58/58 [==============================] - 1s 19ms/step - loss: 0.2601 - accuracy: 0.9197 - val_loss: 0.7084 - val_accuracy: 0.8285\n",
            "Epoch 42/500\n",
            "58/58 [==============================] - 1s 19ms/step - loss: 0.2380 - accuracy: 0.9258 - val_loss: 0.7464 - val_accuracy: 0.8198\n",
            "Epoch 43/500\n",
            "58/58 [==============================] - 1s 18ms/step - loss: 0.2463 - accuracy: 0.9220 - val_loss: 0.7282 - val_accuracy: 0.8243\n",
            "Epoch 44/500\n",
            "58/58 [==============================] - 1s 18ms/step - loss: 0.2485 - accuracy: 0.9224 - val_loss: 0.7290 - val_accuracy: 0.8248\n",
            "Epoch 45/500\n",
            "58/58 [==============================] - 1s 18ms/step - loss: 0.2326 - accuracy: 0.9276 - val_loss: 0.7850 - val_accuracy: 0.8146\n",
            "Epoch 46/500\n",
            "58/58 [==============================] - 1s 18ms/step - loss: 0.2328 - accuracy: 0.9271 - val_loss: 0.7503 - val_accuracy: 0.8247\n",
            "Epoch 47/500\n",
            "58/58 [==============================] - 1s 17ms/step - loss: 0.2247 - accuracy: 0.9303 - val_loss: 0.7614 - val_accuracy: 0.8234\n",
            "Epoch 48/500\n",
            "58/58 [==============================] - 1s 18ms/step - loss: 0.2272 - accuracy: 0.9298 - val_loss: 0.7547 - val_accuracy: 0.8237\n",
            "Epoch 49/500\n",
            "58/58 [==============================] - 1s 18ms/step - loss: 0.2226 - accuracy: 0.9305 - val_loss: 0.7667 - val_accuracy: 0.8263\n",
            "Epoch 50/500\n",
            "58/58 [==============================] - 1s 19ms/step - loss: 0.2124 - accuracy: 0.9327 - val_loss: 0.7660 - val_accuracy: 0.8251\n",
            "Epoch 51/500\n",
            "58/58 [==============================] - 1s 19ms/step - loss: 0.2175 - accuracy: 0.9305 - val_loss: 0.7869 - val_accuracy: 0.8263\n",
            "Epoch 52/500\n",
            "58/58 [==============================] - 1s 19ms/step - loss: 0.2100 - accuracy: 0.9345 - val_loss: 0.7823 - val_accuracy: 0.8241\n",
            "Epoch 53/500\n",
            "58/58 [==============================] - 1s 18ms/step - loss: 0.1990 - accuracy: 0.9393 - val_loss: 0.8024 - val_accuracy: 0.8214\n",
            "Epoch 54/500\n",
            "58/58 [==============================] - 1s 18ms/step - loss: 0.2284 - accuracy: 0.9244 - val_loss: 0.8092 - val_accuracy: 0.8190\n",
            "Epoch 55/500\n",
            "58/58 [==============================] - 1s 17ms/step - loss: 0.2184 - accuracy: 0.9310 - val_loss: 0.8125 - val_accuracy: 0.8206\n",
            "Epoch 56/500\n",
            "58/58 [==============================] - 1s 19ms/step - loss: 0.2074 - accuracy: 0.9344 - val_loss: 0.8077 - val_accuracy: 0.8253\n",
            "Epoch 57/500\n",
            "58/58 [==============================] - 1s 19ms/step - loss: 0.1919 - accuracy: 0.9405 - val_loss: 0.7944 - val_accuracy: 0.8247\n",
            "Epoch 58/500\n",
            "58/58 [==============================] - 1s 19ms/step - loss: 0.1967 - accuracy: 0.9377 - val_loss: 0.8352 - val_accuracy: 0.8198\n",
            "Epoch 59/500\n",
            "58/58 [==============================] - 1s 17ms/step - loss: 0.2005 - accuracy: 0.9361 - val_loss: 0.8261 - val_accuracy: 0.8220\n",
            "Epoch 60/500\n",
            "58/58 [==============================] - 1s 19ms/step - loss: 0.2000 - accuracy: 0.9361 - val_loss: 0.8199 - val_accuracy: 0.8235\n",
            "Epoch 61/500\n",
            "58/58 [==============================] - 1s 20ms/step - loss: 0.1801 - accuracy: 0.9416 - val_loss: 0.8263 - val_accuracy: 0.8233\n",
            "Epoch 62/500\n",
            "58/58 [==============================] - 1s 19ms/step - loss: 0.1880 - accuracy: 0.9408 - val_loss: 0.8731 - val_accuracy: 0.8180\n",
            "Epoch 63/500\n",
            "58/58 [==============================] - 1s 18ms/step - loss: 0.1784 - accuracy: 0.9443 - val_loss: 0.8446 - val_accuracy: 0.8227\n",
            "Epoch 64/500\n",
            "58/58 [==============================] - 1s 19ms/step - loss: 0.1722 - accuracy: 0.9459 - val_loss: 0.8469 - val_accuracy: 0.8235\n",
            "Epoch 65/500\n",
            "58/58 [==============================] - 1s 19ms/step - loss: 0.1733 - accuracy: 0.9467 - val_loss: 0.8821 - val_accuracy: 0.8195\n",
            "Epoch 66/500\n",
            "58/58 [==============================] - 1s 19ms/step - loss: 0.1935 - accuracy: 0.9392 - val_loss: 0.8498 - val_accuracy: 0.8244\n",
            "Epoch 67/500\n",
            "58/58 [==============================] - 1s 19ms/step - loss: 0.1615 - accuracy: 0.9492 - val_loss: 0.8814 - val_accuracy: 0.8230\n",
            "Epoch 68/500\n",
            "58/58 [==============================] - 1s 19ms/step - loss: 0.1745 - accuracy: 0.9459 - val_loss: 0.8539 - val_accuracy: 0.8252\n",
            "Epoch 69/500\n",
            "58/58 [==============================] - 1s 19ms/step - loss: 0.1623 - accuracy: 0.9496 - val_loss: 0.9206 - val_accuracy: 0.8145\n",
            "Epoch 70/500\n",
            "58/58 [==============================] - 1s 19ms/step - loss: 0.1818 - accuracy: 0.9424 - val_loss: 0.9053 - val_accuracy: 0.8188\n",
            "Epoch 71/500\n",
            "58/58 [==============================] - 1s 18ms/step - loss: 0.1718 - accuracy: 0.9470 - val_loss: 0.8936 - val_accuracy: 0.8206\n",
            "Epoch 72/500\n",
            "58/58 [==============================] - 1s 19ms/step - loss: 0.1613 - accuracy: 0.9490 - val_loss: 0.9138 - val_accuracy: 0.8227\n",
            "Epoch 73/500\n",
            "58/58 [==============================] - 1s 19ms/step - loss: 0.1646 - accuracy: 0.9472 - val_loss: 0.9474 - val_accuracy: 0.8137\n",
            "Epoch 74/500\n",
            "58/58 [==============================] - 1s 19ms/step - loss: 0.1649 - accuracy: 0.9486 - val_loss: 0.9041 - val_accuracy: 0.8238\n",
            "Epoch 75/500\n",
            "58/58 [==============================] - 1s 19ms/step - loss: 0.1582 - accuracy: 0.9488 - val_loss: 0.9137 - val_accuracy: 0.8236\n",
            "Epoch 76/500\n",
            "58/58 [==============================] - 1s 19ms/step - loss: 0.1384 - accuracy: 0.9572 - val_loss: 0.9227 - val_accuracy: 0.8222\n",
            "Epoch 77/500\n",
            "58/58 [==============================] - 1s 18ms/step - loss: 0.1544 - accuracy: 0.9526 - val_loss: 0.9025 - val_accuracy: 0.8275\n",
            "Epoch 78/500\n",
            "58/58 [==============================] - 1s 18ms/step - loss: 0.1443 - accuracy: 0.9560 - val_loss: 0.9173 - val_accuracy: 0.8263\n",
            "Epoch 79/500\n",
            "58/58 [==============================] - 1s 19ms/step - loss: 0.1357 - accuracy: 0.9574 - val_loss: 0.9290 - val_accuracy: 0.8262\n",
            "Epoch 80/500\n",
            "58/58 [==============================] - 1s 19ms/step - loss: 0.1357 - accuracy: 0.9578 - val_loss: 0.9659 - val_accuracy: 0.8191\n",
            "Epoch 81/500\n",
            "58/58 [==============================] - 1s 19ms/step - loss: 0.1432 - accuracy: 0.9546 - val_loss: 0.9388 - val_accuracy: 0.8237\n",
            "Epoch 82/500\n",
            "58/58 [==============================] - 1s 19ms/step - loss: 0.1389 - accuracy: 0.9571 - val_loss: 0.9535 - val_accuracy: 0.8217\n",
            "Epoch 83/500\n",
            "58/58 [==============================] - 1s 18ms/step - loss: 0.1499 - accuracy: 0.9515 - val_loss: 0.9580 - val_accuracy: 0.8218\n",
            "Epoch 84/500\n",
            "58/58 [==============================] - 1s 18ms/step - loss: 0.1593 - accuracy: 0.9495 - val_loss: 0.9391 - val_accuracy: 0.8249\n",
            "Epoch 85/500\n",
            "58/58 [==============================] - 1s 19ms/step - loss: 0.1235 - accuracy: 0.9617 - val_loss: 0.9511 - val_accuracy: 0.8240\n",
            "Epoch 86/500\n",
            "58/58 [==============================] - 1s 19ms/step - loss: 0.1285 - accuracy: 0.9602 - val_loss: 0.9993 - val_accuracy: 0.8206\n",
            "Epoch 87/500\n",
            "58/58 [==============================] - 1s 20ms/step - loss: 0.1437 - accuracy: 0.9520 - val_loss: 0.9746 - val_accuracy: 0.8237\n",
            "Epoch 88/500\n",
            "58/58 [==============================] - 1s 19ms/step - loss: 0.1278 - accuracy: 0.9613 - val_loss: 0.9884 - val_accuracy: 0.8224\n",
            "Epoch 89/500\n",
            "58/58 [==============================] - 1s 20ms/step - loss: 0.1376 - accuracy: 0.9558 - val_loss: 0.9934 - val_accuracy: 0.8229\n",
            "Epoch 90/500\n",
            "58/58 [==============================] - 1s 19ms/step - loss: 0.1271 - accuracy: 0.9605 - val_loss: 0.9921 - val_accuracy: 0.8210\n",
            "Epoch 91/500\n",
            "58/58 [==============================] - 1s 19ms/step - loss: 0.1421 - accuracy: 0.9529 - val_loss: 1.0097 - val_accuracy: 0.8210\n",
            "Epoch 92/500\n",
            "58/58 [==============================] - 1s 19ms/step - loss: 0.1300 - accuracy: 0.9574 - val_loss: 1.0426 - val_accuracy: 0.8182\n",
            "Epoch 93/500\n",
            "58/58 [==============================] - 1s 19ms/step - loss: 0.1323 - accuracy: 0.9578 - val_loss: 1.0403 - val_accuracy: 0.8164\n",
            "Epoch 94/500\n",
            "58/58 [==============================] - 1s 19ms/step - loss: 0.1345 - accuracy: 0.9575 - val_loss: 1.0159 - val_accuracy: 0.8206\n",
            "Epoch 95/500\n",
            "58/58 [==============================] - 1s 20ms/step - loss: 0.1261 - accuracy: 0.9592 - val_loss: 1.0423 - val_accuracy: 0.8176\n",
            "Epoch 96/500\n",
            "58/58 [==============================] - 1s 19ms/step - loss: 0.1197 - accuracy: 0.9630 - val_loss: 1.0509 - val_accuracy: 0.8190\n",
            "Epoch 97/500\n",
            "58/58 [==============================] - 1s 19ms/step - loss: 0.1235 - accuracy: 0.9634 - val_loss: 1.0491 - val_accuracy: 0.8222\n",
            "Epoch 98/500\n",
            "58/58 [==============================] - 1s 19ms/step - loss: 0.1236 - accuracy: 0.9610 - val_loss: 1.0903 - val_accuracy: 0.8152\n",
            "Epoch 99/500\n",
            "58/58 [==============================] - 1s 19ms/step - loss: 0.1199 - accuracy: 0.9626 - val_loss: 1.0465 - val_accuracy: 0.8225\n",
            "Epoch 100/500\n",
            "58/58 [==============================] - 1s 19ms/step - loss: 0.1058 - accuracy: 0.9680 - val_loss: 1.0601 - val_accuracy: 0.8172\n",
            "Epoch 101/500\n",
            "58/58 [==============================] - 1s 19ms/step - loss: 0.1114 - accuracy: 0.9661 - val_loss: 1.1087 - val_accuracy: 0.8150\n",
            "Epoch 102/500\n",
            "58/58 [==============================] - 1s 19ms/step - loss: 0.1139 - accuracy: 0.9628 - val_loss: 1.0939 - val_accuracy: 0.8160\n",
            "Epoch 103/500\n",
            "58/58 [==============================] - 1s 20ms/step - loss: 0.1139 - accuracy: 0.9639 - val_loss: 1.1201 - val_accuracy: 0.8160\n",
            "Epoch 104/500\n",
            "58/58 [==============================] - 1s 19ms/step - loss: 0.1195 - accuracy: 0.9604 - val_loss: 1.0905 - val_accuracy: 0.8197\n",
            "Epoch 105/500\n",
            "58/58 [==============================] - 1s 19ms/step - loss: 0.0995 - accuracy: 0.9695 - val_loss: 1.0847 - val_accuracy: 0.8223\n",
            "Epoch 106/500\n",
            "58/58 [==============================] - 1s 19ms/step - loss: 0.1227 - accuracy: 0.9624 - val_loss: 1.0958 - val_accuracy: 0.8210\n",
            "Epoch 107/500\n",
            "58/58 [==============================] - 1s 19ms/step - loss: 0.1056 - accuracy: 0.9658 - val_loss: 1.0937 - val_accuracy: 0.8211\n",
            "Epoch 108/500\n",
            "58/58 [==============================] - 1s 19ms/step - loss: 0.0988 - accuracy: 0.9681 - val_loss: 1.1396 - val_accuracy: 0.8150\n",
            "Epoch 109/500\n",
            "58/58 [==============================] - 1s 19ms/step - loss: 0.1071 - accuracy: 0.9664 - val_loss: 1.1155 - val_accuracy: 0.8186\n",
            "Epoch 110/500\n",
            "58/58 [==============================] - 1s 19ms/step - loss: 0.0936 - accuracy: 0.9711 - val_loss: 1.1062 - val_accuracy: 0.8217\n",
            "Epoch 111/500\n",
            "58/58 [==============================] - 1s 18ms/step - loss: 0.0977 - accuracy: 0.9689 - val_loss: 1.1101 - val_accuracy: 0.8233\n",
            "Epoch 112/500\n",
            "58/58 [==============================] - 1s 19ms/step - loss: 0.1107 - accuracy: 0.9653 - val_loss: 1.1402 - val_accuracy: 0.8152\n",
            "Epoch 113/500\n",
            "58/58 [==============================] - 1s 18ms/step - loss: 0.1133 - accuracy: 0.9622 - val_loss: 1.1292 - val_accuracy: 0.8207\n",
            "Epoch 114/500\n",
            "58/58 [==============================] - 1s 19ms/step - loss: 0.1000 - accuracy: 0.9692 - val_loss: 1.1361 - val_accuracy: 0.8223\n",
            "Epoch 115/500\n",
            "58/58 [==============================] - 1s 19ms/step - loss: 0.0981 - accuracy: 0.9683 - val_loss: 1.1287 - val_accuracy: 0.8222\n",
            "Epoch 116/500\n",
            "58/58 [==============================] - 1s 19ms/step - loss: 0.0886 - accuracy: 0.9721 - val_loss: 1.1282 - val_accuracy: 0.8230\n",
            "Epoch 117/500\n",
            "58/58 [==============================] - 1s 19ms/step - loss: 0.0849 - accuracy: 0.9742 - val_loss: 1.1491 - val_accuracy: 0.8218\n",
            "Epoch 118/500\n",
            "58/58 [==============================] - 1s 18ms/step - loss: 0.1062 - accuracy: 0.9665 - val_loss: 1.1756 - val_accuracy: 0.8172\n",
            "Epoch 119/500\n",
            "58/58 [==============================] - 1s 18ms/step - loss: 0.1103 - accuracy: 0.9646 - val_loss: 1.1711 - val_accuracy: 0.8200\n",
            "Epoch 120/500\n",
            "58/58 [==============================] - 1s 19ms/step - loss: 0.1061 - accuracy: 0.9663 - val_loss: 1.1626 - val_accuracy: 0.8237\n",
            "Epoch 121/500\n",
            "58/58 [==============================] - 1s 19ms/step - loss: 0.1028 - accuracy: 0.9669 - val_loss: 1.1762 - val_accuracy: 0.8207\n",
            "Epoch 122/500\n",
            "58/58 [==============================] - 1s 18ms/step - loss: 0.1044 - accuracy: 0.9677 - val_loss: 1.1919 - val_accuracy: 0.8199\n",
            "Epoch 123/500\n",
            "58/58 [==============================] - 1s 18ms/step - loss: 0.1044 - accuracy: 0.9671 - val_loss: 1.1789 - val_accuracy: 0.8202\n",
            "Epoch 124/500\n",
            "58/58 [==============================] - 1s 19ms/step - loss: 0.0896 - accuracy: 0.9715 - val_loss: 1.1809 - val_accuracy: 0.8216\n",
            "Epoch 125/500\n",
            "58/58 [==============================] - 1s 19ms/step - loss: 0.0896 - accuracy: 0.9732 - val_loss: 1.1745 - val_accuracy: 0.8226\n",
            "Epoch 126/500\n",
            "58/58 [==============================] - 1s 18ms/step - loss: 0.0894 - accuracy: 0.9719 - val_loss: 1.2161 - val_accuracy: 0.8195\n",
            "Epoch 127/500\n",
            "58/58 [==============================] - 1s 19ms/step - loss: 0.0823 - accuracy: 0.9739 - val_loss: 1.1881 - val_accuracy: 0.8212\n",
            "Epoch 128/500\n",
            "58/58 [==============================] - 1s 19ms/step - loss: 0.0918 - accuracy: 0.9717 - val_loss: 1.2073 - val_accuracy: 0.8247\n",
            "Epoch 129/500\n",
            "58/58 [==============================] - 1s 19ms/step - loss: 0.0799 - accuracy: 0.9732 - val_loss: 1.2142 - val_accuracy: 0.8230\n",
            "Epoch 130/500\n",
            "58/58 [==============================] - 1s 19ms/step - loss: 0.0898 - accuracy: 0.9723 - val_loss: 1.2282 - val_accuracy: 0.8209\n",
            "Epoch 131/500\n",
            "58/58 [==============================] - 1s 18ms/step - loss: 0.0805 - accuracy: 0.9745 - val_loss: 1.2303 - val_accuracy: 0.8173\n",
            "Epoch 132/500\n",
            "58/58 [==============================] - 1s 19ms/step - loss: 0.1015 - accuracy: 0.9658 - val_loss: 1.2471 - val_accuracy: 0.8188\n",
            "Epoch 133/500\n",
            "58/58 [==============================] - 1s 19ms/step - loss: 0.0882 - accuracy: 0.9706 - val_loss: 1.2471 - val_accuracy: 0.8215\n",
            "Epoch 134/500\n",
            "58/58 [==============================] - 1s 19ms/step - loss: 0.0843 - accuracy: 0.9747 - val_loss: 1.2263 - val_accuracy: 0.8216\n",
            "Epoch 135/500\n",
            "58/58 [==============================] - 1s 18ms/step - loss: 0.0756 - accuracy: 0.9769 - val_loss: 1.2464 - val_accuracy: 0.8208\n",
            "Epoch 136/500\n",
            "58/58 [==============================] - 1s 18ms/step - loss: 0.0809 - accuracy: 0.9746 - val_loss: 1.2562 - val_accuracy: 0.8181\n",
            "Epoch 137/500\n",
            "58/58 [==============================] - 1s 19ms/step - loss: 0.0906 - accuracy: 0.9701 - val_loss: 1.3328 - val_accuracy: 0.8124\n",
            "Epoch 138/500\n",
            "58/58 [==============================] - 1s 18ms/step - loss: 0.1130 - accuracy: 0.9650 - val_loss: 1.2731 - val_accuracy: 0.8181\n",
            "Epoch 139/500\n",
            "58/58 [==============================] - 1s 19ms/step - loss: 0.0834 - accuracy: 0.9719 - val_loss: 1.2518 - val_accuracy: 0.8233\n",
            "Epoch 140/500\n",
            "58/58 [==============================] - 1s 19ms/step - loss: 0.0869 - accuracy: 0.9723 - val_loss: 1.2598 - val_accuracy: 0.8216\n",
            "Epoch 141/500\n",
            "58/58 [==============================] - 1s 19ms/step - loss: 0.0812 - accuracy: 0.9739 - val_loss: 1.2847 - val_accuracy: 0.8193\n",
            "Epoch 142/500\n",
            "58/58 [==============================] - 1s 19ms/step - loss: 0.0836 - accuracy: 0.9730 - val_loss: 1.2694 - val_accuracy: 0.8230\n",
            "Epoch 143/500\n",
            "58/58 [==============================] - 1s 20ms/step - loss: 0.0747 - accuracy: 0.9761 - val_loss: 1.2949 - val_accuracy: 0.8198\n",
            "Epoch 144/500\n",
            "58/58 [==============================] - 1s 18ms/step - loss: 0.0783 - accuracy: 0.9748 - val_loss: 1.3284 - val_accuracy: 0.8157\n",
            "Epoch 145/500\n",
            "58/58 [==============================] - 1s 19ms/step - loss: 0.0949 - accuracy: 0.9695 - val_loss: 1.3297 - val_accuracy: 0.8158\n",
            "Epoch 146/500\n",
            "58/58 [==============================] - 1s 19ms/step - loss: 0.0865 - accuracy: 0.9721 - val_loss: 1.3282 - val_accuracy: 0.8183\n",
            "Epoch 147/500\n",
            "58/58 [==============================] - 1s 19ms/step - loss: 0.0928 - accuracy: 0.9701 - val_loss: 1.2884 - val_accuracy: 0.8222\n",
            "Epoch 148/500\n",
            "58/58 [==============================] - 1s 19ms/step - loss: 0.0641 - accuracy: 0.9806 - val_loss: 1.3092 - val_accuracy: 0.8188\n",
            "Epoch 149/500\n",
            "58/58 [==============================] - 1s 19ms/step - loss: 0.0659 - accuracy: 0.9790 - val_loss: 1.3143 - val_accuracy: 0.8213\n",
            "Epoch 150/500\n",
            "58/58 [==============================] - 1s 19ms/step - loss: 0.0720 - accuracy: 0.9788 - val_loss: 1.3339 - val_accuracy: 0.8193\n",
            "Epoch 151/500\n",
            "58/58 [==============================] - 1s 19ms/step - loss: 0.0775 - accuracy: 0.9741 - val_loss: 1.3221 - val_accuracy: 0.8195\n",
            "Epoch 152/500\n",
            "58/58 [==============================] - 1s 17ms/step - loss: 0.0683 - accuracy: 0.9790 - val_loss: 1.3244 - val_accuracy: 0.8203\n",
            "Epoch 153/500\n",
            "58/58 [==============================] - 1s 20ms/step - loss: 0.0846 - accuracy: 0.9728 - val_loss: 1.3602 - val_accuracy: 0.8185\n",
            "Epoch 154/500\n",
            "58/58 [==============================] - 1s 19ms/step - loss: 0.1077 - accuracy: 0.9663 - val_loss: 1.3573 - val_accuracy: 0.8176\n",
            "Epoch 155/500\n",
            "58/58 [==============================] - 1s 19ms/step - loss: 0.1066 - accuracy: 0.9668 - val_loss: 1.3426 - val_accuracy: 0.8205\n",
            "Epoch 156/500\n",
            "58/58 [==============================] - 1s 19ms/step - loss: 0.0668 - accuracy: 0.9800 - val_loss: 1.3703 - val_accuracy: 0.8195\n",
            "Epoch 157/500\n",
            "58/58 [==============================] - 1s 19ms/step - loss: 0.0766 - accuracy: 0.9755 - val_loss: 1.3235 - val_accuracy: 0.8235\n",
            "Epoch 158/500\n",
            "58/58 [==============================] - 1s 19ms/step - loss: 0.0837 - accuracy: 0.9728 - val_loss: 1.3539 - val_accuracy: 0.8221\n",
            "Epoch 159/500\n",
            "58/58 [==============================] - 1s 19ms/step - loss: 0.0759 - accuracy: 0.9760 - val_loss: 1.3746 - val_accuracy: 0.8188\n",
            "Epoch 160/500\n",
            "58/58 [==============================] - 1s 20ms/step - loss: 0.0786 - accuracy: 0.9755 - val_loss: 1.3791 - val_accuracy: 0.8181\n",
            "Epoch 161/500\n",
            "58/58 [==============================] - 1s 20ms/step - loss: 0.0864 - accuracy: 0.9733 - val_loss: 1.3445 - val_accuracy: 0.8235\n",
            "Epoch 162/500\n",
            "58/58 [==============================] - 1s 20ms/step - loss: 0.0594 - accuracy: 0.9807 - val_loss: 1.3592 - val_accuracy: 0.8216\n",
            "Epoch 163/500\n",
            "58/58 [==============================] - 1s 19ms/step - loss: 0.0693 - accuracy: 0.9781 - val_loss: 1.3609 - val_accuracy: 0.8186\n",
            "Epoch 164/500\n",
            "58/58 [==============================] - 1s 19ms/step - loss: 0.0717 - accuracy: 0.9767 - val_loss: 1.3857 - val_accuracy: 0.8214\n",
            "Epoch 165/500\n",
            "58/58 [==============================] - 1s 19ms/step - loss: 0.0589 - accuracy: 0.9817 - val_loss: 1.3975 - val_accuracy: 0.8209\n",
            "Epoch 166/500\n",
            "58/58 [==============================] - 1s 19ms/step - loss: 0.0719 - accuracy: 0.9769 - val_loss: 1.3984 - val_accuracy: 0.8224\n",
            "Epoch 167/500\n",
            "58/58 [==============================] - 1s 19ms/step - loss: 0.0730 - accuracy: 0.9772 - val_loss: 1.3916 - val_accuracy: 0.8197\n",
            "Epoch 168/500\n",
            "58/58 [==============================] - 1s 18ms/step - loss: 0.0761 - accuracy: 0.9747 - val_loss: 1.3744 - val_accuracy: 0.8214\n",
            "Epoch 169/500\n",
            "58/58 [==============================] - 1s 19ms/step - loss: 0.0681 - accuracy: 0.9781 - val_loss: 1.4010 - val_accuracy: 0.8209\n",
            "Epoch 170/500\n",
            "58/58 [==============================] - 1s 20ms/step - loss: 0.0535 - accuracy: 0.9842 - val_loss: 1.4075 - val_accuracy: 0.8193\n",
            "Epoch 171/500\n",
            "58/58 [==============================] - 1s 20ms/step - loss: 0.0546 - accuracy: 0.9831 - val_loss: 1.4219 - val_accuracy: 0.8172\n",
            "Epoch 172/500\n",
            "58/58 [==============================] - 1s 20ms/step - loss: 0.0712 - accuracy: 0.9788 - val_loss: 1.4060 - val_accuracy: 0.8228\n",
            "Epoch 173/500\n",
            "58/58 [==============================] - 1s 20ms/step - loss: 0.0613 - accuracy: 0.9805 - val_loss: 1.4177 - val_accuracy: 0.8201\n",
            "Epoch 174/500\n",
            "58/58 [==============================] - 1s 20ms/step - loss: 0.0823 - accuracy: 0.9748 - val_loss: 1.4592 - val_accuracy: 0.8164\n",
            "Epoch 175/500\n",
            "58/58 [==============================] - 1s 20ms/step - loss: 0.0753 - accuracy: 0.9758 - val_loss: 1.4654 - val_accuracy: 0.8153\n",
            "Epoch 176/500\n",
            "58/58 [==============================] - 1s 20ms/step - loss: 0.0637 - accuracy: 0.9798 - val_loss: 1.4265 - val_accuracy: 0.8240\n",
            "Epoch 177/500\n",
            "58/58 [==============================] - 1s 19ms/step - loss: 0.0637 - accuracy: 0.9809 - val_loss: 1.4520 - val_accuracy: 0.8235\n",
            "Epoch 178/500\n",
            "58/58 [==============================] - 1s 20ms/step - loss: 0.0731 - accuracy: 0.9783 - val_loss: 1.4552 - val_accuracy: 0.8189\n",
            "Epoch 179/500\n",
            "58/58 [==============================] - 1s 19ms/step - loss: 0.0535 - accuracy: 0.9831 - val_loss: 1.4583 - val_accuracy: 0.8226\n",
            "Epoch 180/500\n",
            "58/58 [==============================] - 1s 20ms/step - loss: 0.0489 - accuracy: 0.9848 - val_loss: 1.4987 - val_accuracy: 0.8157\n",
            "Epoch 181/500\n",
            "58/58 [==============================] - 1s 20ms/step - loss: 0.0624 - accuracy: 0.9806 - val_loss: 1.4633 - val_accuracy: 0.8218\n",
            "Epoch 182/500\n",
            "58/58 [==============================] - 1s 19ms/step - loss: 0.0708 - accuracy: 0.9774 - val_loss: 1.5204 - val_accuracy: 0.8178\n",
            "Epoch 183/500\n",
            "58/58 [==============================] - 1s 19ms/step - loss: 0.0802 - accuracy: 0.9739 - val_loss: 1.4939 - val_accuracy: 0.8203\n",
            "Epoch 184/500\n",
            "58/58 [==============================] - 1s 19ms/step - loss: 0.0582 - accuracy: 0.9809 - val_loss: 1.4898 - val_accuracy: 0.8199\n",
            "Epoch 185/500\n",
            "58/58 [==============================] - 1s 19ms/step - loss: 0.0658 - accuracy: 0.9788 - val_loss: 1.5512 - val_accuracy: 0.8126\n",
            "Epoch 186/500\n",
            "58/58 [==============================] - 1s 19ms/step - loss: 0.1125 - accuracy: 0.9661 - val_loss: 1.4828 - val_accuracy: 0.8213\n",
            "Epoch 187/500\n",
            "58/58 [==============================] - 1s 20ms/step - loss: 0.0722 - accuracy: 0.9760 - val_loss: 1.4692 - val_accuracy: 0.8207\n",
            "Epoch 188/500\n",
            "58/58 [==============================] - 1s 18ms/step - loss: 0.0662 - accuracy: 0.9784 - val_loss: 1.4947 - val_accuracy: 0.8192\n",
            "Epoch 189/500\n",
            "58/58 [==============================] - 1s 20ms/step - loss: 0.0768 - accuracy: 0.9741 - val_loss: 1.4757 - val_accuracy: 0.8252\n",
            "Epoch 190/500\n",
            "58/58 [==============================] - 1s 19ms/step - loss: 0.0662 - accuracy: 0.9796 - val_loss: 1.5112 - val_accuracy: 0.8176\n",
            "Epoch 191/500\n",
            "58/58 [==============================] - 1s 18ms/step - loss: 0.0856 - accuracy: 0.9718 - val_loss: 1.5304 - val_accuracy: 0.8159\n",
            "Epoch 192/500\n",
            "58/58 [==============================] - 1s 19ms/step - loss: 0.0654 - accuracy: 0.9786 - val_loss: 1.5008 - val_accuracy: 0.8209\n",
            "Epoch 193/500\n",
            "58/58 [==============================] - 1s 22ms/step - loss: 0.0610 - accuracy: 0.9811 - val_loss: 1.4871 - val_accuracy: 0.8196\n",
            "Epoch 194/500\n",
            "58/58 [==============================] - 1s 20ms/step - loss: 0.0632 - accuracy: 0.9806 - val_loss: 1.4995 - val_accuracy: 0.8245\n",
            "Epoch 195/500\n",
            "58/58 [==============================] - 1s 19ms/step - loss: 0.0459 - accuracy: 0.9851 - val_loss: 1.4987 - val_accuracy: 0.8230\n",
            "Epoch 196/500\n",
            "58/58 [==============================] - 1s 20ms/step - loss: 0.0471 - accuracy: 0.9858 - val_loss: 1.5106 - val_accuracy: 0.8215\n",
            "Epoch 197/500\n",
            "58/58 [==============================] - 1s 19ms/step - loss: 0.0429 - accuracy: 0.9867 - val_loss: 1.5255 - val_accuracy: 0.8208\n",
            "Epoch 198/500\n",
            "58/58 [==============================] - 1s 20ms/step - loss: 0.0501 - accuracy: 0.9835 - val_loss: 1.5601 - val_accuracy: 0.8191\n",
            "Epoch 199/500\n",
            "58/58 [==============================] - 1s 20ms/step - loss: 0.1059 - accuracy: 0.9673 - val_loss: 1.6243 - val_accuracy: 0.8099\n",
            "Epoch 200/500\n",
            "58/58 [==============================] - 1s 20ms/step - loss: 0.0719 - accuracy: 0.9761 - val_loss: 1.5674 - val_accuracy: 0.8177\n",
            "Epoch 201/500\n",
            "58/58 [==============================] - 1s 18ms/step - loss: 0.0774 - accuracy: 0.9772 - val_loss: 1.5313 - val_accuracy: 0.8208\n",
            "Epoch 202/500\n",
            "58/58 [==============================] - 1s 20ms/step - loss: 0.0501 - accuracy: 0.9837 - val_loss: 1.5595 - val_accuracy: 0.8179\n",
            "Epoch 203/500\n",
            "58/58 [==============================] - 1s 20ms/step - loss: 0.0536 - accuracy: 0.9840 - val_loss: 1.5652 - val_accuracy: 0.8178\n",
            "Epoch 204/500\n",
            "58/58 [==============================] - 1s 19ms/step - loss: 0.0807 - accuracy: 0.9741 - val_loss: 1.5541 - val_accuracy: 0.8171\n",
            "Epoch 205/500\n",
            "58/58 [==============================] - 1s 20ms/step - loss: 0.0953 - accuracy: 0.9696 - val_loss: 1.5710 - val_accuracy: 0.8170\n",
            "Epoch 206/500\n",
            "58/58 [==============================] - 1s 19ms/step - loss: 0.0643 - accuracy: 0.9801 - val_loss: 1.5626 - val_accuracy: 0.8205\n",
            "Epoch 207/500\n",
            "58/58 [==============================] - 1s 19ms/step - loss: 0.0496 - accuracy: 0.9829 - val_loss: 1.5829 - val_accuracy: 0.8172\n",
            "Epoch 208/500\n",
            "58/58 [==============================] - 1s 20ms/step - loss: 0.0526 - accuracy: 0.9832 - val_loss: 1.5395 - val_accuracy: 0.8240\n",
            "Epoch 209/500\n",
            "58/58 [==============================] - 1s 19ms/step - loss: 0.0694 - accuracy: 0.9772 - val_loss: 1.5710 - val_accuracy: 0.8198\n",
            "Epoch 210/500\n",
            "58/58 [==============================] - 1s 20ms/step - loss: 0.0605 - accuracy: 0.9813 - val_loss: 1.5622 - val_accuracy: 0.8221\n",
            "Epoch 211/500\n",
            "58/58 [==============================] - 1s 20ms/step - loss: 0.0451 - accuracy: 0.9851 - val_loss: 1.5789 - val_accuracy: 0.8211\n",
            "Epoch 212/500\n",
            "58/58 [==============================] - 1s 19ms/step - loss: 0.0506 - accuracy: 0.9844 - val_loss: 1.5793 - val_accuracy: 0.8213\n",
            "Epoch 213/500\n",
            "58/58 [==============================] - 1s 20ms/step - loss: 0.0546 - accuracy: 0.9831 - val_loss: 1.6157 - val_accuracy: 0.8172\n",
            "Epoch 214/500\n",
            "58/58 [==============================] - 1s 20ms/step - loss: 0.1086 - accuracy: 0.9691 - val_loss: 1.7282 - val_accuracy: 0.8044\n",
            "Epoch 215/500\n",
            "58/58 [==============================] - 1s 20ms/step - loss: 0.0937 - accuracy: 0.9709 - val_loss: 1.6220 - val_accuracy: 0.8196\n",
            "Epoch 216/500\n",
            "58/58 [==============================] - 1s 20ms/step - loss: 0.0549 - accuracy: 0.9822 - val_loss: 1.6104 - val_accuracy: 0.8168\n",
            "Epoch 217/500\n",
            "58/58 [==============================] - 1s 21ms/step - loss: 0.0582 - accuracy: 0.9818 - val_loss: 1.5868 - val_accuracy: 0.8210\n",
            "Epoch 218/500\n",
            "58/58 [==============================] - 1s 19ms/step - loss: 0.0428 - accuracy: 0.9870 - val_loss: 1.6259 - val_accuracy: 0.8139\n",
            "Epoch 219/500\n",
            "58/58 [==============================] - 1s 21ms/step - loss: 0.0410 - accuracy: 0.9872 - val_loss: 1.5812 - val_accuracy: 0.8219\n",
            "Epoch 220/500\n",
            "58/58 [==============================] - 1s 20ms/step - loss: 0.0342 - accuracy: 0.9896 - val_loss: 1.6730 - val_accuracy: 0.8148\n",
            "Epoch 221/500\n",
            "58/58 [==============================] - 1s 20ms/step - loss: 0.0667 - accuracy: 0.9790 - val_loss: 1.5963 - val_accuracy: 0.8209\n",
            "Epoch 222/500\n",
            "58/58 [==============================] - 1s 19ms/step - loss: 0.0617 - accuracy: 0.9815 - val_loss: 1.6213 - val_accuracy: 0.8208\n",
            "Epoch 223/500\n",
            "58/58 [==============================] - 1s 20ms/step - loss: 0.0556 - accuracy: 0.9822 - val_loss: 1.6131 - val_accuracy: 0.8195\n",
            "Epoch 224/500\n",
            "58/58 [==============================] - 1s 19ms/step - loss: 0.0439 - accuracy: 0.9859 - val_loss: 1.6214 - val_accuracy: 0.8230\n",
            "Epoch 225/500\n",
            "58/58 [==============================] - 1s 19ms/step - loss: 0.0483 - accuracy: 0.9856 - val_loss: 1.6252 - val_accuracy: 0.8203\n",
            "Epoch 226/500\n",
            "58/58 [==============================] - 1s 20ms/step - loss: 0.0475 - accuracy: 0.9849 - val_loss: 1.6638 - val_accuracy: 0.8138\n",
            "Epoch 227/500\n",
            "58/58 [==============================] - 1s 20ms/step - loss: 0.0724 - accuracy: 0.9774 - val_loss: 1.6648 - val_accuracy: 0.8172\n",
            "Epoch 228/500\n",
            "58/58 [==============================] - 1s 20ms/step - loss: 0.0535 - accuracy: 0.9838 - val_loss: 1.6755 - val_accuracy: 0.8167\n",
            "Epoch 229/500\n",
            "58/58 [==============================] - 1s 19ms/step - loss: 0.0585 - accuracy: 0.9796 - val_loss: 1.6467 - val_accuracy: 0.8222\n",
            "Epoch 230/500\n",
            "58/58 [==============================] - 1s 20ms/step - loss: 0.0435 - accuracy: 0.9857 - val_loss: 1.6578 - val_accuracy: 0.8191\n",
            "Epoch 231/500\n",
            "58/58 [==============================] - 1s 20ms/step - loss: 0.0511 - accuracy: 0.9838 - val_loss: 1.6566 - val_accuracy: 0.8184\n",
            "Epoch 232/500\n",
            "58/58 [==============================] - 1s 20ms/step - loss: 0.0469 - accuracy: 0.9842 - val_loss: 1.6745 - val_accuracy: 0.8151\n",
            "Epoch 233/500\n",
            "58/58 [==============================] - 1s 19ms/step - loss: 0.0453 - accuracy: 0.9858 - val_loss: 1.6906 - val_accuracy: 0.8186\n",
            "Epoch 234/500\n",
            "58/58 [==============================] - 1s 20ms/step - loss: 0.0510 - accuracy: 0.9824 - val_loss: 1.7050 - val_accuracy: 0.8171\n",
            "Epoch 235/500\n",
            "58/58 [==============================] - 1s 19ms/step - loss: 0.0520 - accuracy: 0.9833 - val_loss: 1.6726 - val_accuracy: 0.8197\n",
            "Epoch 236/500\n",
            "58/58 [==============================] - 1s 19ms/step - loss: 0.0696 - accuracy: 0.9778 - val_loss: 1.7303 - val_accuracy: 0.8124\n",
            "Epoch 237/500\n",
            "58/58 [==============================] - 1s 20ms/step - loss: 0.0773 - accuracy: 0.9754 - val_loss: 1.7140 - val_accuracy: 0.8181\n",
            "Epoch 238/500\n",
            "58/58 [==============================] - 1s 19ms/step - loss: 0.0592 - accuracy: 0.9812 - val_loss: 1.6934 - val_accuracy: 0.8168\n",
            "Epoch 239/500\n",
            "58/58 [==============================] - 1s 19ms/step - loss: 0.0497 - accuracy: 0.9841 - val_loss: 1.6997 - val_accuracy: 0.8192\n",
            "Epoch 240/500\n",
            "58/58 [==============================] - 1s 20ms/step - loss: 0.0645 - accuracy: 0.9802 - val_loss: 1.7182 - val_accuracy: 0.8161\n",
            "Epoch 241/500\n",
            "58/58 [==============================] - 1s 20ms/step - loss: 0.0607 - accuracy: 0.9803 - val_loss: 1.6873 - val_accuracy: 0.8226\n",
            "Epoch 242/500\n",
            "58/58 [==============================] - 1s 20ms/step - loss: 0.0433 - accuracy: 0.9866 - val_loss: 1.7257 - val_accuracy: 0.8199\n",
            "Epoch 243/500\n",
            "58/58 [==============================] - 1s 21ms/step - loss: 0.0365 - accuracy: 0.9888 - val_loss: 1.7006 - val_accuracy: 0.8182\n",
            "Epoch 244/500\n",
            "58/58 [==============================] - 1s 20ms/step - loss: 0.0348 - accuracy: 0.9895 - val_loss: 1.7282 - val_accuracy: 0.8171\n",
            "Epoch 245/500\n",
            "58/58 [==============================] - 1s 20ms/step - loss: 0.0507 - accuracy: 0.9855 - val_loss: 1.7413 - val_accuracy: 0.8165\n",
            "Epoch 246/500\n",
            "58/58 [==============================] - 1s 20ms/step - loss: 0.0471 - accuracy: 0.9849 - val_loss: 1.7540 - val_accuracy: 0.8145\n",
            "Epoch 247/500\n",
            "58/58 [==============================] - 1s 20ms/step - loss: 0.0448 - accuracy: 0.9859 - val_loss: 1.8526 - val_accuracy: 0.8094\n",
            "Epoch 248/500\n",
            "58/58 [==============================] - 1s 19ms/step - loss: 0.0534 - accuracy: 0.9827 - val_loss: 1.7558 - val_accuracy: 0.8169\n",
            "Epoch 249/500\n",
            "58/58 [==============================] - 1s 20ms/step - loss: 0.0531 - accuracy: 0.9831 - val_loss: 1.7294 - val_accuracy: 0.8202\n",
            "Epoch 250/500\n",
            "58/58 [==============================] - 1s 19ms/step - loss: 0.0426 - accuracy: 0.9860 - val_loss: 1.7508 - val_accuracy: 0.8183\n",
            "Epoch 251/500\n",
            "58/58 [==============================] - 1s 19ms/step - loss: 0.0475 - accuracy: 0.9860 - val_loss: 1.7491 - val_accuracy: 0.8189\n",
            "Epoch 252/500\n",
            "58/58 [==============================] - 1s 20ms/step - loss: 0.0725 - accuracy: 0.9785 - val_loss: 1.7406 - val_accuracy: 0.8201\n",
            "Epoch 253/500\n",
            "58/58 [==============================] - 1s 20ms/step - loss: 0.0369 - accuracy: 0.9875 - val_loss: 1.7829 - val_accuracy: 0.8183\n",
            "Epoch 254/500\n",
            "58/58 [==============================] - 1s 21ms/step - loss: 0.0720 - accuracy: 0.9761 - val_loss: 1.7718 - val_accuracy: 0.8160\n",
            "Epoch 255/500\n",
            "58/58 [==============================] - 1s 20ms/step - loss: 0.0655 - accuracy: 0.9792 - val_loss: 1.7812 - val_accuracy: 0.8199\n",
            "Epoch 256/500\n",
            "58/58 [==============================] - 1s 20ms/step - loss: 0.0479 - accuracy: 0.9840 - val_loss: 1.7631 - val_accuracy: 0.8203\n",
            "Epoch 257/500\n",
            "58/58 [==============================] - 1s 19ms/step - loss: 0.0483 - accuracy: 0.9840 - val_loss: 1.7759 - val_accuracy: 0.8195\n",
            "Epoch 258/500\n",
            "58/58 [==============================] - 1s 20ms/step - loss: 0.0430 - accuracy: 0.9874 - val_loss: 1.7694 - val_accuracy: 0.8177\n",
            "Epoch 259/500\n",
            "58/58 [==============================] - 1s 20ms/step - loss: 0.0610 - accuracy: 0.9813 - val_loss: 1.7800 - val_accuracy: 0.8165\n",
            "Epoch 260/500\n",
            "58/58 [==============================] - 1s 20ms/step - loss: 0.0525 - accuracy: 0.9820 - val_loss: 1.7798 - val_accuracy: 0.8196\n",
            "Epoch 261/500\n",
            "58/58 [==============================] - 1s 20ms/step - loss: 0.0481 - accuracy: 0.9837 - val_loss: 1.7576 - val_accuracy: 0.8212\n",
            "Epoch 262/500\n",
            "58/58 [==============================] - 1s 20ms/step - loss: 0.0446 - accuracy: 0.9858 - val_loss: 1.7931 - val_accuracy: 0.8157\n",
            "Epoch 263/500\n",
            "58/58 [==============================] - 1s 20ms/step - loss: 0.0443 - accuracy: 0.9863 - val_loss: 1.7576 - val_accuracy: 0.8217\n",
            "Epoch 264/500\n",
            "58/58 [==============================] - 1s 20ms/step - loss: 0.0298 - accuracy: 0.9903 - val_loss: 1.7516 - val_accuracy: 0.8222\n",
            "Epoch 265/500\n",
            "58/58 [==============================] - 1s 20ms/step - loss: 0.0361 - accuracy: 0.9883 - val_loss: 1.7873 - val_accuracy: 0.8180\n",
            "Epoch 266/500\n",
            "58/58 [==============================] - 1s 21ms/step - loss: 0.0535 - accuracy: 0.9822 - val_loss: 1.7927 - val_accuracy: 0.8207\n",
            "Epoch 267/500\n",
            "58/58 [==============================] - 1s 20ms/step - loss: 0.0544 - accuracy: 0.9822 - val_loss: 1.7956 - val_accuracy: 0.8207\n",
            "Epoch 268/500\n",
            "58/58 [==============================] - 1s 20ms/step - loss: 0.0376 - accuracy: 0.9868 - val_loss: 1.8142 - val_accuracy: 0.8201\n",
            "Epoch 269/500\n",
            "58/58 [==============================] - 1s 20ms/step - loss: 0.0506 - accuracy: 0.9836 - val_loss: 1.8325 - val_accuracy: 0.8168\n",
            "Epoch 270/500\n",
            "58/58 [==============================] - 1s 20ms/step - loss: 0.0594 - accuracy: 0.9820 - val_loss: 1.8307 - val_accuracy: 0.8154\n",
            "Epoch 271/500\n",
            "58/58 [==============================] - 1s 20ms/step - loss: 0.0509 - accuracy: 0.9838 - val_loss: 1.8373 - val_accuracy: 0.8167\n",
            "Epoch 272/500\n",
            "58/58 [==============================] - 1s 21ms/step - loss: 0.0523 - accuracy: 0.9842 - val_loss: 1.8126 - val_accuracy: 0.8180\n",
            "Epoch 273/500\n",
            "58/58 [==============================] - 1s 20ms/step - loss: 0.0480 - accuracy: 0.9847 - val_loss: 1.8297 - val_accuracy: 0.8186\n",
            "Epoch 274/500\n",
            "58/58 [==============================] - 1s 20ms/step - loss: 0.0609 - accuracy: 0.9803 - val_loss: 1.8941 - val_accuracy: 0.8137\n",
            "Epoch 275/500\n",
            "58/58 [==============================] - 1s 21ms/step - loss: 0.0728 - accuracy: 0.9783 - val_loss: 1.8123 - val_accuracy: 0.8199\n",
            "Epoch 276/500\n",
            "58/58 [==============================] - 1s 20ms/step - loss: 0.0364 - accuracy: 0.9886 - val_loss: 1.8435 - val_accuracy: 0.8164\n",
            "Epoch 277/500\n",
            "58/58 [==============================] - 1s 19ms/step - loss: 0.0558 - accuracy: 0.9821 - val_loss: 1.9016 - val_accuracy: 0.8134\n",
            "Epoch 278/500\n",
            "58/58 [==============================] - 1s 20ms/step - loss: 0.0671 - accuracy: 0.9787 - val_loss: 1.8525 - val_accuracy: 0.8179\n",
            "Epoch 279/500\n",
            "58/58 [==============================] - 1s 21ms/step - loss: 0.0647 - accuracy: 0.9790 - val_loss: 1.8610 - val_accuracy: 0.8180\n",
            "Epoch 280/500\n",
            "58/58 [==============================] - 1s 20ms/step - loss: 0.0420 - accuracy: 0.9864 - val_loss: 1.8178 - val_accuracy: 0.8214\n",
            "Epoch 281/500\n",
            "58/58 [==============================] - 1s 21ms/step - loss: 0.0372 - accuracy: 0.9888 - val_loss: 1.8312 - val_accuracy: 0.8202\n",
            "Epoch 282/500\n",
            "58/58 [==============================] - 1s 20ms/step - loss: 0.0344 - accuracy: 0.9893 - val_loss: 1.8655 - val_accuracy: 0.8169\n",
            "Epoch 283/500\n",
            "58/58 [==============================] - 1s 20ms/step - loss: 0.0487 - accuracy: 0.9841 - val_loss: 1.8534 - val_accuracy: 0.8156\n",
            "Epoch 284/500\n",
            "58/58 [==============================] - 1s 22ms/step - loss: 0.0544 - accuracy: 0.9833 - val_loss: 1.8471 - val_accuracy: 0.8183\n",
            "Epoch 285/500\n",
            "58/58 [==============================] - 1s 20ms/step - loss: 0.0447 - accuracy: 0.9853 - val_loss: 1.8668 - val_accuracy: 0.8164\n",
            "Epoch 286/500\n",
            "58/58 [==============================] - 1s 21ms/step - loss: 0.0439 - accuracy: 0.9867 - val_loss: 1.8775 - val_accuracy: 0.8173\n",
            "Epoch 287/500\n",
            "58/58 [==============================] - 1s 20ms/step - loss: 0.0669 - accuracy: 0.9783 - val_loss: 1.8880 - val_accuracy: 0.8152\n",
            "Epoch 288/500\n",
            "58/58 [==============================] - 1s 21ms/step - loss: 0.0498 - accuracy: 0.9846 - val_loss: 1.8823 - val_accuracy: 0.8171\n",
            "Epoch 289/500\n",
            "58/58 [==============================] - 1s 21ms/step - loss: 0.0469 - accuracy: 0.9848 - val_loss: 1.8474 - val_accuracy: 0.8184\n",
            "Epoch 290/500\n",
            "58/58 [==============================] - 1s 21ms/step - loss: 0.0625 - accuracy: 0.9800 - val_loss: 1.8648 - val_accuracy: 0.8187\n",
            "Epoch 291/500\n",
            "58/58 [==============================] - 1s 20ms/step - loss: 0.0336 - accuracy: 0.9899 - val_loss: 1.8661 - val_accuracy: 0.8194\n",
            "Epoch 292/500\n",
            "58/58 [==============================] - 1s 20ms/step - loss: 0.0355 - accuracy: 0.9897 - val_loss: 1.8799 - val_accuracy: 0.8210\n",
            "Epoch 293/500\n",
            "58/58 [==============================] - 1s 20ms/step - loss: 0.0407 - accuracy: 0.9865 - val_loss: 1.9092 - val_accuracy: 0.8133\n",
            "Epoch 294/500\n",
            "58/58 [==============================] - 1s 21ms/step - loss: 0.0504 - accuracy: 0.9839 - val_loss: 1.8946 - val_accuracy: 0.8183\n",
            "Epoch 295/500\n",
            "58/58 [==============================] - 1s 21ms/step - loss: 0.0410 - accuracy: 0.9865 - val_loss: 1.8606 - val_accuracy: 0.8165\n",
            "Epoch 296/500\n",
            "58/58 [==============================] - 1s 20ms/step - loss: 0.0333 - accuracy: 0.9895 - val_loss: 1.8696 - val_accuracy: 0.8202\n",
            "Epoch 297/500\n",
            "58/58 [==============================] - 1s 20ms/step - loss: 0.0420 - accuracy: 0.9868 - val_loss: 1.9097 - val_accuracy: 0.8180\n",
            "Epoch 298/500\n",
            "58/58 [==============================] - 1s 20ms/step - loss: 0.0477 - accuracy: 0.9846 - val_loss: 1.8955 - val_accuracy: 0.8178\n",
            "Epoch 299/500\n",
            "58/58 [==============================] - 1s 20ms/step - loss: 0.0509 - accuracy: 0.9834 - val_loss: 1.9106 - val_accuracy: 0.8176\n",
            "Epoch 300/500\n",
            "58/58 [==============================] - 1s 20ms/step - loss: 0.0555 - accuracy: 0.9830 - val_loss: 1.9081 - val_accuracy: 0.8184\n",
            "Epoch 301/500\n",
            "58/58 [==============================] - 1s 21ms/step - loss: 0.0596 - accuracy: 0.9803 - val_loss: 1.9924 - val_accuracy: 0.8090\n",
            "Epoch 302/500\n",
            "58/58 [==============================] - 1s 19ms/step - loss: 0.0764 - accuracy: 0.9762 - val_loss: 1.8874 - val_accuracy: 0.8215\n",
            "Epoch 303/500\n",
            "58/58 [==============================] - 1s 20ms/step - loss: 0.0416 - accuracy: 0.9868 - val_loss: 1.8947 - val_accuracy: 0.8181\n",
            "Epoch 304/500\n",
            "58/58 [==============================] - 1s 20ms/step - loss: 0.0440 - accuracy: 0.9863 - val_loss: 1.9375 - val_accuracy: 0.8160\n",
            "Epoch 305/500\n",
            "58/58 [==============================] - 1s 21ms/step - loss: 0.0555 - accuracy: 0.9846 - val_loss: 1.9005 - val_accuracy: 0.8181\n",
            "Epoch 306/500\n",
            "58/58 [==============================] - 1s 20ms/step - loss: 0.0477 - accuracy: 0.9857 - val_loss: 1.8793 - val_accuracy: 0.8214\n",
            "Epoch 307/500\n",
            "58/58 [==============================] - 1s 21ms/step - loss: 0.0409 - accuracy: 0.9867 - val_loss: 1.9205 - val_accuracy: 0.8189\n",
            "Epoch 308/500\n",
            "58/58 [==============================] - 1s 20ms/step - loss: 0.0337 - accuracy: 0.9895 - val_loss: 1.8984 - val_accuracy: 0.8194\n",
            "Epoch 309/500\n",
            "58/58 [==============================] - 1s 19ms/step - loss: 0.0234 - accuracy: 0.9931 - val_loss: 1.8955 - val_accuracy: 0.8182\n",
            "Epoch 310/500\n",
            "58/58 [==============================] - 1s 19ms/step - loss: 0.0261 - accuracy: 0.9916 - val_loss: 1.9275 - val_accuracy: 0.8181\n",
            "Epoch 311/500\n",
            "58/58 [==============================] - 1s 20ms/step - loss: 0.0363 - accuracy: 0.9883 - val_loss: 1.9226 - val_accuracy: 0.8232\n",
            "Epoch 312/500\n",
            "58/58 [==============================] - 1s 20ms/step - loss: 0.0315 - accuracy: 0.9897 - val_loss: 1.9418 - val_accuracy: 0.8187\n",
            "Epoch 313/500\n",
            "58/58 [==============================] - 1s 20ms/step - loss: 0.0384 - accuracy: 0.9877 - val_loss: 1.9379 - val_accuracy: 0.8172\n",
            "Epoch 314/500\n",
            "58/58 [==============================] - 1s 20ms/step - loss: 0.0359 - accuracy: 0.9878 - val_loss: 1.9982 - val_accuracy: 0.8098\n",
            "Epoch 315/500\n",
            "58/58 [==============================] - 1s 21ms/step - loss: 0.0805 - accuracy: 0.9754 - val_loss: 2.0325 - val_accuracy: 0.8156\n",
            "Epoch 316/500\n",
            "58/58 [==============================] - 1s 20ms/step - loss: 0.0843 - accuracy: 0.9740 - val_loss: 1.9468 - val_accuracy: 0.8211\n",
            "Epoch 317/500\n",
            "58/58 [==============================] - 1s 21ms/step - loss: 0.0680 - accuracy: 0.9768 - val_loss: 1.9581 - val_accuracy: 0.8149\n",
            "Epoch 318/500\n",
            "58/58 [==============================] - 1s 20ms/step - loss: 0.0399 - accuracy: 0.9867 - val_loss: 1.9431 - val_accuracy: 0.8179\n",
            "Epoch 319/500\n",
            "58/58 [==============================] - 1s 20ms/step - loss: 0.0405 - accuracy: 0.9873 - val_loss: 1.9829 - val_accuracy: 0.8140\n",
            "Epoch 320/500\n",
            "58/58 [==============================] - 1s 21ms/step - loss: 0.0476 - accuracy: 0.9852 - val_loss: 1.9475 - val_accuracy: 0.8173\n",
            "Epoch 321/500\n",
            "58/58 [==============================] - 1s 20ms/step - loss: 0.0421 - accuracy: 0.9866 - val_loss: 1.9357 - val_accuracy: 0.8186\n",
            "Epoch 322/500\n",
            "58/58 [==============================] - 1s 20ms/step - loss: 0.0338 - accuracy: 0.9897 - val_loss: 1.9302 - val_accuracy: 0.8181\n",
            "Epoch 323/500\n",
            "58/58 [==============================] - 1s 21ms/step - loss: 0.0321 - accuracy: 0.9907 - val_loss: 1.9427 - val_accuracy: 0.8174\n",
            "Epoch 324/500\n",
            "58/58 [==============================] - 1s 21ms/step - loss: 0.0343 - accuracy: 0.9878 - val_loss: 1.9879 - val_accuracy: 0.8160\n",
            "Epoch 325/500\n",
            "58/58 [==============================] - 1s 20ms/step - loss: 0.0416 - accuracy: 0.9863 - val_loss: 1.9541 - val_accuracy: 0.8196\n",
            "Epoch 326/500\n",
            "58/58 [==============================] - 1s 21ms/step - loss: 0.0447 - accuracy: 0.9855 - val_loss: 1.9584 - val_accuracy: 0.8195\n",
            "Epoch 327/500\n",
            "58/58 [==============================] - 1s 21ms/step - loss: 0.0330 - accuracy: 0.9897 - val_loss: 2.0087 - val_accuracy: 0.8148\n",
            "Epoch 328/500\n",
            "58/58 [==============================] - 1s 20ms/step - loss: 0.0584 - accuracy: 0.9817 - val_loss: 1.9912 - val_accuracy: 0.8175\n",
            "Epoch 329/500\n",
            "58/58 [==============================] - 1s 21ms/step - loss: 0.0411 - accuracy: 0.9855 - val_loss: 1.9818 - val_accuracy: 0.8166\n",
            "Epoch 330/500\n",
            "58/58 [==============================] - 1s 20ms/step - loss: 0.0326 - accuracy: 0.9894 - val_loss: 1.9944 - val_accuracy: 0.8176\n",
            "Epoch 331/500\n",
            "58/58 [==============================] - 1s 20ms/step - loss: 0.0396 - accuracy: 0.9872 - val_loss: 1.9840 - val_accuracy: 0.8188\n",
            "Epoch 332/500\n",
            "58/58 [==============================] - 1s 20ms/step - loss: 0.0315 - accuracy: 0.9909 - val_loss: 2.0318 - val_accuracy: 0.8138\n",
            "Epoch 333/500\n",
            "58/58 [==============================] - 1s 20ms/step - loss: 0.0784 - accuracy: 0.9760 - val_loss: 2.0231 - val_accuracy: 0.8147\n",
            "Epoch 334/500\n",
            "58/58 [==============================] - 1s 21ms/step - loss: 0.0738 - accuracy: 0.9763 - val_loss: 1.9805 - val_accuracy: 0.8193\n",
            "Epoch 335/500\n",
            "58/58 [==============================] - 1s 20ms/step - loss: 0.0378 - accuracy: 0.9869 - val_loss: 2.0116 - val_accuracy: 0.8190\n",
            "Epoch 336/500\n",
            "58/58 [==============================] - 1s 22ms/step - loss: 0.0396 - accuracy: 0.9868 - val_loss: 1.9911 - val_accuracy: 0.8235\n",
            "Epoch 337/500\n",
            "58/58 [==============================] - 1s 21ms/step - loss: 0.0406 - accuracy: 0.9873 - val_loss: 1.9838 - val_accuracy: 0.8190\n",
            "Epoch 338/500\n",
            "58/58 [==============================] - 1s 20ms/step - loss: 0.0331 - accuracy: 0.9902 - val_loss: 2.0044 - val_accuracy: 0.8185\n",
            "Epoch 339/500\n",
            "58/58 [==============================] - 1s 21ms/step - loss: 0.0361 - accuracy: 0.9894 - val_loss: 2.0041 - val_accuracy: 0.8220\n",
            "Epoch 340/500\n",
            "58/58 [==============================] - 1s 20ms/step - loss: 0.0404 - accuracy: 0.9876 - val_loss: 2.0285 - val_accuracy: 0.8189\n",
            "Epoch 341/500\n",
            "58/58 [==============================] - 1s 21ms/step - loss: 0.0374 - accuracy: 0.9883 - val_loss: 2.0320 - val_accuracy: 0.8160\n",
            "Epoch 342/500\n",
            "58/58 [==============================] - 1s 21ms/step - loss: 0.0405 - accuracy: 0.9871 - val_loss: 1.9926 - val_accuracy: 0.8183\n",
            "Epoch 343/500\n",
            "58/58 [==============================] - 1s 20ms/step - loss: 0.0274 - accuracy: 0.9909 - val_loss: 2.0074 - val_accuracy: 0.8188\n",
            "Epoch 344/500\n",
            "58/58 [==============================] - 1s 21ms/step - loss: 0.0352 - accuracy: 0.9884 - val_loss: 2.0492 - val_accuracy: 0.8153\n",
            "Epoch 345/500\n",
            "58/58 [==============================] - 1s 20ms/step - loss: 0.0689 - accuracy: 0.9791 - val_loss: 2.0757 - val_accuracy: 0.8147\n",
            "Epoch 346/500\n",
            "58/58 [==============================] - 1s 20ms/step - loss: 0.0499 - accuracy: 0.9855 - val_loss: 2.0318 - val_accuracy: 0.8177\n",
            "Epoch 347/500\n",
            "58/58 [==============================] - 1s 21ms/step - loss: 0.0411 - accuracy: 0.9876 - val_loss: 2.0645 - val_accuracy: 0.8152\n",
            "Epoch 348/500\n",
            "58/58 [==============================] - 1s 20ms/step - loss: 0.0760 - accuracy: 0.9783 - val_loss: 2.0730 - val_accuracy: 0.8147\n",
            "Epoch 349/500\n",
            "58/58 [==============================] - 1s 21ms/step - loss: 0.1045 - accuracy: 0.9707 - val_loss: 2.0095 - val_accuracy: 0.8179\n",
            "Epoch 350/500\n",
            "58/58 [==============================] - 1s 21ms/step - loss: 0.0280 - accuracy: 0.9910 - val_loss: 1.9896 - val_accuracy: 0.8198\n",
            "Epoch 351/500\n",
            "58/58 [==============================] - 1s 20ms/step - loss: 0.0334 - accuracy: 0.9895 - val_loss: 1.9860 - val_accuracy: 0.8204\n",
            "Epoch 352/500\n",
            "58/58 [==============================] - 1s 20ms/step - loss: 0.0246 - accuracy: 0.9922 - val_loss: 2.0291 - val_accuracy: 0.8152\n",
            "Epoch 353/500\n",
            "58/58 [==============================] - 1s 21ms/step - loss: 0.0295 - accuracy: 0.9903 - val_loss: 2.1069 - val_accuracy: 0.8119\n",
            "Epoch 354/500\n",
            "58/58 [==============================] - 1s 20ms/step - loss: 0.0331 - accuracy: 0.9892 - val_loss: 2.0584 - val_accuracy: 0.8176\n",
            "Epoch 355/500\n",
            "58/58 [==============================] - 1s 21ms/step - loss: 0.0274 - accuracy: 0.9912 - val_loss: 2.0428 - val_accuracy: 0.8164\n",
            "Epoch 356/500\n",
            "58/58 [==============================] - 1s 21ms/step - loss: 0.0415 - accuracy: 0.9872 - val_loss: 2.1321 - val_accuracy: 0.8121\n",
            "Epoch 357/500\n",
            "58/58 [==============================] - 1s 21ms/step - loss: 0.0314 - accuracy: 0.9902 - val_loss: 2.0511 - val_accuracy: 0.8191\n",
            "Epoch 358/500\n",
            "58/58 [==============================] - 1s 21ms/step - loss: 0.0483 - accuracy: 0.9850 - val_loss: 2.0627 - val_accuracy: 0.8181\n",
            "Epoch 359/500\n",
            "58/58 [==============================] - 1s 21ms/step - loss: 0.0273 - accuracy: 0.9913 - val_loss: 2.0819 - val_accuracy: 0.8160\n",
            "Epoch 360/500\n",
            "58/58 [==============================] - 1s 21ms/step - loss: 0.0335 - accuracy: 0.9885 - val_loss: 2.1029 - val_accuracy: 0.8124\n",
            "Epoch 361/500\n",
            "58/58 [==============================] - 1s 21ms/step - loss: 0.0483 - accuracy: 0.9844 - val_loss: 2.1219 - val_accuracy: 0.8151\n",
            "Epoch 362/500\n",
            "58/58 [==============================] - 1s 20ms/step - loss: 0.0685 - accuracy: 0.9792 - val_loss: 2.0811 - val_accuracy: 0.8187\n",
            "Epoch 363/500\n",
            "58/58 [==============================] - 1s 21ms/step - loss: 0.0523 - accuracy: 0.9828 - val_loss: 2.0474 - val_accuracy: 0.8189\n",
            "Epoch 364/500\n",
            "58/58 [==============================] - 1s 20ms/step - loss: 0.0471 - accuracy: 0.9854 - val_loss: 2.0748 - val_accuracy: 0.8175\n",
            "Epoch 365/500\n",
            "58/58 [==============================] - 1s 21ms/step - loss: 0.0357 - accuracy: 0.9881 - val_loss: 2.0624 - val_accuracy: 0.8170\n",
            "Epoch 366/500\n",
            "58/58 [==============================] - 1s 21ms/step - loss: 0.0282 - accuracy: 0.9911 - val_loss: 2.0587 - val_accuracy: 0.8199\n",
            "Epoch 367/500\n",
            "58/58 [==============================] - 1s 21ms/step - loss: 0.0254 - accuracy: 0.9921 - val_loss: 2.0574 - val_accuracy: 0.8180\n",
            "Epoch 368/500\n",
            "58/58 [==============================] - 1s 21ms/step - loss: 0.0210 - accuracy: 0.9939 - val_loss: 2.1206 - val_accuracy: 0.8154\n",
            "Epoch 369/500\n",
            "58/58 [==============================] - 1s 21ms/step - loss: 0.0335 - accuracy: 0.9900 - val_loss: 2.0565 - val_accuracy: 0.8203\n",
            "Epoch 370/500\n",
            "58/58 [==============================] - 1s 20ms/step - loss: 0.0264 - accuracy: 0.9919 - val_loss: 2.1020 - val_accuracy: 0.8159\n",
            "Epoch 371/500\n",
            "58/58 [==============================] - 1s 21ms/step - loss: 0.0537 - accuracy: 0.9836 - val_loss: 2.1071 - val_accuracy: 0.8176\n",
            "Epoch 372/500\n",
            "58/58 [==============================] - 1s 21ms/step - loss: 0.0391 - accuracy: 0.9879 - val_loss: 2.1615 - val_accuracy: 0.8146\n",
            "Epoch 373/500\n",
            "58/58 [==============================] - 1s 20ms/step - loss: 0.0549 - accuracy: 0.9836 - val_loss: 2.1437 - val_accuracy: 0.8156\n",
            "Epoch 374/500\n",
            "58/58 [==============================] - 1s 21ms/step - loss: 0.0428 - accuracy: 0.9864 - val_loss: 2.0676 - val_accuracy: 0.8191\n",
            "Epoch 375/500\n",
            "58/58 [==============================] - 1s 21ms/step - loss: 0.0288 - accuracy: 0.9903 - val_loss: 2.0849 - val_accuracy: 0.8191\n",
            "Epoch 376/500\n",
            "58/58 [==============================] - 1s 21ms/step - loss: 0.0393 - accuracy: 0.9885 - val_loss: 2.1211 - val_accuracy: 0.8160\n",
            "Epoch 377/500\n",
            "58/58 [==============================] - 1s 21ms/step - loss: 0.0442 - accuracy: 0.9868 - val_loss: 2.1289 - val_accuracy: 0.8183\n",
            "Epoch 378/500\n",
            "58/58 [==============================] - 1s 23ms/step - loss: 0.0568 - accuracy: 0.9827 - val_loss: 2.1170 - val_accuracy: 0.8151\n",
            "Epoch 379/500\n",
            "58/58 [==============================] - 1s 21ms/step - loss: 0.0351 - accuracy: 0.9893 - val_loss: 2.1489 - val_accuracy: 0.8145\n",
            "Epoch 380/500\n",
            "58/58 [==============================] - 1s 21ms/step - loss: 0.0326 - accuracy: 0.9901 - val_loss: 2.0911 - val_accuracy: 0.8203\n",
            "Epoch 381/500\n",
            "58/58 [==============================] - 1s 20ms/step - loss: 0.0279 - accuracy: 0.9912 - val_loss: 2.0987 - val_accuracy: 0.8201\n",
            "Epoch 382/500\n",
            "58/58 [==============================] - 1s 21ms/step - loss: 0.0205 - accuracy: 0.9937 - val_loss: 2.1030 - val_accuracy: 0.8179\n",
            "Epoch 383/500\n",
            "58/58 [==============================] - 1s 21ms/step - loss: 0.0214 - accuracy: 0.9930 - val_loss: 2.1426 - val_accuracy: 0.8154\n",
            "Epoch 384/500\n",
            "58/58 [==============================] - 1s 20ms/step - loss: 0.0459 - accuracy: 0.9863 - val_loss: 2.1497 - val_accuracy: 0.8169\n",
            "Epoch 385/500\n",
            "58/58 [==============================] - 1s 21ms/step - loss: 0.0565 - accuracy: 0.9817 - val_loss: 2.1667 - val_accuracy: 0.8143\n",
            "Epoch 386/500\n",
            "58/58 [==============================] - 1s 21ms/step - loss: 0.0393 - accuracy: 0.9871 - val_loss: 2.1584 - val_accuracy: 0.8151\n",
            "Epoch 387/500\n",
            "58/58 [==============================] - 1s 19ms/step - loss: 0.0434 - accuracy: 0.9853 - val_loss: 2.1376 - val_accuracy: 0.8203\n",
            "Epoch 388/500\n",
            "58/58 [==============================] - 1s 20ms/step - loss: 0.0374 - accuracy: 0.9887 - val_loss: 2.1314 - val_accuracy: 0.8187\n",
            "Epoch 389/500\n",
            "58/58 [==============================] - 1s 20ms/step - loss: 0.0556 - accuracy: 0.9827 - val_loss: 2.1484 - val_accuracy: 0.8159\n",
            "Epoch 390/500\n",
            "58/58 [==============================] - 1s 20ms/step - loss: 0.0555 - accuracy: 0.9840 - val_loss: 2.1085 - val_accuracy: 0.8209\n",
            "Epoch 391/500\n",
            "58/58 [==============================] - 1s 21ms/step - loss: 0.0344 - accuracy: 0.9892 - val_loss: 2.1601 - val_accuracy: 0.8179\n",
            "Epoch 392/500\n",
            "58/58 [==============================] - 1s 20ms/step - loss: 0.0395 - accuracy: 0.9893 - val_loss: 2.2274 - val_accuracy: 0.8104\n",
            "Epoch 393/500\n",
            "58/58 [==============================] - 1s 21ms/step - loss: 0.0432 - accuracy: 0.9850 - val_loss: 2.1841 - val_accuracy: 0.8156\n",
            "Epoch 394/500\n",
            "58/58 [==============================] - 1s 21ms/step - loss: 0.0387 - accuracy: 0.9873 - val_loss: 2.1536 - val_accuracy: 0.8205\n",
            "Epoch 395/500\n",
            "58/58 [==============================] - 1s 21ms/step - loss: 0.0243 - accuracy: 0.9928 - val_loss: 2.1338 - val_accuracy: 0.8193\n",
            "Epoch 396/500\n",
            "58/58 [==============================] - 1s 21ms/step - loss: 0.0357 - accuracy: 0.9889 - val_loss: 2.2259 - val_accuracy: 0.8145\n",
            "Epoch 397/500\n",
            "58/58 [==============================] - 1s 20ms/step - loss: 0.0505 - accuracy: 0.9843 - val_loss: 2.1547 - val_accuracy: 0.8204\n",
            "Epoch 398/500\n",
            "58/58 [==============================] - 1s 20ms/step - loss: 0.0413 - accuracy: 0.9871 - val_loss: 2.1631 - val_accuracy: 0.8210\n",
            "Epoch 399/500\n",
            "58/58 [==============================] - 1s 21ms/step - loss: 0.0283 - accuracy: 0.9911 - val_loss: 2.2177 - val_accuracy: 0.8168\n",
            "Epoch 400/500\n",
            "58/58 [==============================] - 1s 21ms/step - loss: 0.0412 - accuracy: 0.9875 - val_loss: 2.1627 - val_accuracy: 0.8206\n",
            "Epoch 401/500\n",
            "58/58 [==============================] - 1s 20ms/step - loss: 0.0333 - accuracy: 0.9899 - val_loss: 2.1748 - val_accuracy: 0.8213\n",
            "Epoch 402/500\n",
            "58/58 [==============================] - 1s 21ms/step - loss: 0.0274 - accuracy: 0.9917 - val_loss: 2.2411 - val_accuracy: 0.8118\n",
            "Epoch 403/500\n",
            "58/58 [==============================] - 1s 20ms/step - loss: 0.0617 - accuracy: 0.9815 - val_loss: 2.1794 - val_accuracy: 0.8172\n",
            "Epoch 404/500\n",
            "58/58 [==============================] - 1s 22ms/step - loss: 0.0230 - accuracy: 0.9924 - val_loss: 2.2130 - val_accuracy: 0.8169\n",
            "Epoch 405/500\n",
            "58/58 [==============================] - 1s 21ms/step - loss: 0.0323 - accuracy: 0.9885 - val_loss: 2.1695 - val_accuracy: 0.8157\n",
            "Epoch 406/500\n",
            "58/58 [==============================] - 1s 21ms/step - loss: 0.0482 - accuracy: 0.9846 - val_loss: 2.2527 - val_accuracy: 0.8145\n",
            "Epoch 407/500\n",
            "58/58 [==============================] - 1s 21ms/step - loss: 0.0544 - accuracy: 0.9842 - val_loss: 2.1609 - val_accuracy: 0.8161\n",
            "Epoch 408/500\n",
            "58/58 [==============================] - 1s 21ms/step - loss: 0.0464 - accuracy: 0.9850 - val_loss: 2.1562 - val_accuracy: 0.8181\n",
            "Epoch 409/500\n",
            "58/58 [==============================] - 1s 21ms/step - loss: 0.0381 - accuracy: 0.9880 - val_loss: 2.1282 - val_accuracy: 0.8220\n",
            "Epoch 410/500\n",
            "58/58 [==============================] - 1s 21ms/step - loss: 0.0390 - accuracy: 0.9873 - val_loss: 2.1432 - val_accuracy: 0.8218\n",
            "Epoch 411/500\n",
            "58/58 [==============================] - 1s 21ms/step - loss: 0.0369 - accuracy: 0.9893 - val_loss: 2.1555 - val_accuracy: 0.8203\n",
            "Epoch 412/500\n",
            "58/58 [==============================] - 1s 21ms/step - loss: 0.0306 - accuracy: 0.9906 - val_loss: 2.1886 - val_accuracy: 0.8191\n",
            "Epoch 413/500\n",
            "58/58 [==============================] - 1s 21ms/step - loss: 0.0286 - accuracy: 0.9906 - val_loss: 2.1929 - val_accuracy: 0.8189\n",
            "Epoch 414/500\n",
            "58/58 [==============================] - 1s 20ms/step - loss: 0.0341 - accuracy: 0.9892 - val_loss: 2.1975 - val_accuracy: 0.8187\n",
            "Epoch 415/500\n",
            "58/58 [==============================] - 1s 20ms/step - loss: 0.0330 - accuracy: 0.9903 - val_loss: 2.1850 - val_accuracy: 0.8191\n",
            "Epoch 416/500\n",
            "58/58 [==============================] - 1s 21ms/step - loss: 0.0292 - accuracy: 0.9912 - val_loss: 2.2226 - val_accuracy: 0.8187\n",
            "Epoch 417/500\n",
            "58/58 [==============================] - 1s 21ms/step - loss: 0.0268 - accuracy: 0.9908 - val_loss: 2.2149 - val_accuracy: 0.8183\n",
            "Epoch 418/500\n",
            "58/58 [==============================] - 1s 21ms/step - loss: 0.0383 - accuracy: 0.9883 - val_loss: 2.2801 - val_accuracy: 0.8132\n",
            "Epoch 419/500\n",
            "58/58 [==============================] - 1s 21ms/step - loss: 0.0500 - accuracy: 0.9850 - val_loss: 2.2283 - val_accuracy: 0.8180\n",
            "Epoch 420/500\n",
            "58/58 [==============================] - 1s 21ms/step - loss: 0.0518 - accuracy: 0.9839 - val_loss: 2.2076 - val_accuracy: 0.8209\n",
            "Epoch 421/500\n",
            "58/58 [==============================] - 1s 21ms/step - loss: 0.0301 - accuracy: 0.9898 - val_loss: 2.2328 - val_accuracy: 0.8175\n",
            "Epoch 422/500\n",
            "58/58 [==============================] - 1s 21ms/step - loss: 0.0437 - accuracy: 0.9863 - val_loss: 2.2329 - val_accuracy: 0.8175\n",
            "Epoch 423/500\n",
            "58/58 [==============================] - 1s 21ms/step - loss: 0.0536 - accuracy: 0.9844 - val_loss: 2.2660 - val_accuracy: 0.8139\n",
            "Epoch 424/500\n",
            "58/58 [==============================] - 1s 22ms/step - loss: 0.0457 - accuracy: 0.9862 - val_loss: 2.2224 - val_accuracy: 0.8184\n",
            "Epoch 425/500\n",
            "58/58 [==============================] - 1s 21ms/step - loss: 0.0295 - accuracy: 0.9903 - val_loss: 2.2012 - val_accuracy: 0.8200\n",
            "Epoch 426/500\n",
            "58/58 [==============================] - 1s 20ms/step - loss: 0.0271 - accuracy: 0.9916 - val_loss: 2.2212 - val_accuracy: 0.8170\n",
            "Epoch 427/500\n",
            "58/58 [==============================] - 1s 21ms/step - loss: 0.0244 - accuracy: 0.9917 - val_loss: 2.2537 - val_accuracy: 0.8160\n",
            "Epoch 428/500\n",
            "58/58 [==============================] - 1s 22ms/step - loss: 0.0302 - accuracy: 0.9908 - val_loss: 2.2455 - val_accuracy: 0.8191\n",
            "Epoch 429/500\n",
            "58/58 [==============================] - 1s 21ms/step - loss: 0.0209 - accuracy: 0.9926 - val_loss: 2.2194 - val_accuracy: 0.8178\n",
            "Epoch 430/500\n",
            "58/58 [==============================] - 1s 21ms/step - loss: 0.0248 - accuracy: 0.9926 - val_loss: 2.2353 - val_accuracy: 0.8196\n",
            "Epoch 431/500\n",
            "58/58 [==============================] - 1s 20ms/step - loss: 0.0282 - accuracy: 0.9902 - val_loss: 2.2431 - val_accuracy: 0.8176\n",
            "Epoch 432/500\n",
            "58/58 [==============================] - 1s 21ms/step - loss: 0.0282 - accuracy: 0.9905 - val_loss: 2.2778 - val_accuracy: 0.8160\n",
            "Epoch 433/500\n",
            "58/58 [==============================] - 1s 21ms/step - loss: 0.0349 - accuracy: 0.9888 - val_loss: 2.2465 - val_accuracy: 0.8181\n",
            "Epoch 434/500\n",
            "58/58 [==============================] - 1s 21ms/step - loss: 0.0514 - accuracy: 0.9852 - val_loss: 2.2313 - val_accuracy: 0.8199\n",
            "Epoch 435/500\n",
            "58/58 [==============================] - 1s 22ms/step - loss: 0.0411 - accuracy: 0.9887 - val_loss: 2.2547 - val_accuracy: 0.8187\n",
            "Epoch 436/500\n",
            "58/58 [==============================] - 1s 21ms/step - loss: 0.0521 - accuracy: 0.9838 - val_loss: 2.2647 - val_accuracy: 0.8188\n",
            "Epoch 437/500\n",
            "58/58 [==============================] - 1s 21ms/step - loss: 0.0608 - accuracy: 0.9827 - val_loss: 2.2900 - val_accuracy: 0.8133\n",
            "Epoch 438/500\n",
            "58/58 [==============================] - 1s 21ms/step - loss: 0.0774 - accuracy: 0.9797 - val_loss: 2.2290 - val_accuracy: 0.8202\n",
            "Epoch 439/500\n",
            "58/58 [==============================] - 1s 22ms/step - loss: 0.0434 - accuracy: 0.9865 - val_loss: 2.2709 - val_accuracy: 0.8170\n",
            "Epoch 440/500\n",
            "58/58 [==============================] - 1s 21ms/step - loss: 0.0568 - accuracy: 0.9829 - val_loss: 2.2272 - val_accuracy: 0.8191\n",
            "Epoch 441/500\n",
            "58/58 [==============================] - 1s 21ms/step - loss: 0.0226 - accuracy: 0.9924 - val_loss: 2.2273 - val_accuracy: 0.8199\n",
            "Epoch 442/500\n",
            "58/58 [==============================] - 1s 21ms/step - loss: 0.0293 - accuracy: 0.9908 - val_loss: 2.2462 - val_accuracy: 0.8203\n",
            "Epoch 443/500\n",
            "58/58 [==============================] - 1s 20ms/step - loss: 0.0370 - accuracy: 0.9880 - val_loss: 2.2697 - val_accuracy: 0.8199\n",
            "Epoch 444/500\n",
            "58/58 [==============================] - 1s 21ms/step - loss: 0.0499 - accuracy: 0.9848 - val_loss: 2.2866 - val_accuracy: 0.8169\n",
            "Epoch 445/500\n",
            "58/58 [==============================] - 1s 21ms/step - loss: 0.0418 - accuracy: 0.9868 - val_loss: 2.2724 - val_accuracy: 0.8176\n",
            "Epoch 446/500\n",
            "58/58 [==============================] - 1s 21ms/step - loss: 0.0545 - accuracy: 0.9821 - val_loss: 2.2643 - val_accuracy: 0.8199\n",
            "Epoch 447/500\n",
            "58/58 [==============================] - 1s 21ms/step - loss: 0.0404 - accuracy: 0.9879 - val_loss: 2.2552 - val_accuracy: 0.8192\n",
            "Epoch 448/500\n",
            "58/58 [==============================] - 1s 21ms/step - loss: 0.0368 - accuracy: 0.9883 - val_loss: 2.2553 - val_accuracy: 0.8185\n",
            "Epoch 449/500\n",
            "58/58 [==============================] - 1s 21ms/step - loss: 0.0237 - accuracy: 0.9924 - val_loss: 2.2453 - val_accuracy: 0.8221\n",
            "Epoch 450/500\n",
            "58/58 [==============================] - 1s 21ms/step - loss: 0.0227 - accuracy: 0.9929 - val_loss: 2.2473 - val_accuracy: 0.8230\n",
            "Epoch 451/500\n",
            "58/58 [==============================] - 1s 22ms/step - loss: 0.0174 - accuracy: 0.9940 - val_loss: 2.2642 - val_accuracy: 0.8226\n",
            "Epoch 452/500\n",
            "58/58 [==============================] - 1s 21ms/step - loss: 0.0209 - accuracy: 0.9937 - val_loss: 2.2403 - val_accuracy: 0.8192\n",
            "Epoch 453/500\n",
            "58/58 [==============================] - 1s 21ms/step - loss: 0.0200 - accuracy: 0.9937 - val_loss: 2.3049 - val_accuracy: 0.8187\n",
            "Epoch 454/500\n",
            "58/58 [==============================] - 1s 21ms/step - loss: 0.0280 - accuracy: 0.9913 - val_loss: 2.3024 - val_accuracy: 0.8190\n",
            "Epoch 455/500\n",
            "58/58 [==============================] - 1s 22ms/step - loss: 0.0298 - accuracy: 0.9917 - val_loss: 2.2763 - val_accuracy: 0.8194\n",
            "Epoch 456/500\n",
            "58/58 [==============================] - 1s 21ms/step - loss: 0.0386 - accuracy: 0.9887 - val_loss: 2.3016 - val_accuracy: 0.8195\n",
            "Epoch 457/500\n",
            "58/58 [==============================] - 1s 21ms/step - loss: 0.0286 - accuracy: 0.9901 - val_loss: 2.3042 - val_accuracy: 0.8203\n",
            "Epoch 458/500\n",
            "58/58 [==============================] - 1s 21ms/step - loss: 0.0314 - accuracy: 0.9898 - val_loss: 2.2924 - val_accuracy: 0.8163\n",
            "Epoch 459/500\n",
            "58/58 [==============================] - 1s 21ms/step - loss: 0.0260 - accuracy: 0.9917 - val_loss: 2.3093 - val_accuracy: 0.8178\n",
            "Epoch 460/500\n",
            "58/58 [==============================] - 1s 22ms/step - loss: 0.0320 - accuracy: 0.9896 - val_loss: 2.2879 - val_accuracy: 0.8183\n",
            "Epoch 461/500\n",
            "58/58 [==============================] - 1s 22ms/step - loss: 0.0372 - accuracy: 0.9881 - val_loss: 2.3249 - val_accuracy: 0.8178\n",
            "Epoch 462/500\n",
            "58/58 [==============================] - 1s 22ms/step - loss: 0.0495 - accuracy: 0.9849 - val_loss: 2.3190 - val_accuracy: 0.8134\n",
            "Epoch 463/500\n",
            "58/58 [==============================] - 1s 21ms/step - loss: 0.0378 - accuracy: 0.9878 - val_loss: 2.3728 - val_accuracy: 0.8141\n",
            "Epoch 464/500\n",
            "58/58 [==============================] - 1s 21ms/step - loss: 0.0302 - accuracy: 0.9896 - val_loss: 2.3048 - val_accuracy: 0.8210\n",
            "Epoch 465/500\n",
            "58/58 [==============================] - 1s 21ms/step - loss: 0.0247 - accuracy: 0.9917 - val_loss: 2.2967 - val_accuracy: 0.8175\n",
            "Epoch 466/500\n",
            "58/58 [==============================] - 1s 21ms/step - loss: 0.0379 - accuracy: 0.9889 - val_loss: 2.3499 - val_accuracy: 0.8143\n",
            "Epoch 467/500\n",
            "58/58 [==============================] - 1s 22ms/step - loss: 0.0568 - accuracy: 0.9831 - val_loss: 2.4193 - val_accuracy: 0.8129\n",
            "Epoch 468/500\n",
            "58/58 [==============================] - 1s 22ms/step - loss: 0.0680 - accuracy: 0.9803 - val_loss: 2.3619 - val_accuracy: 0.8160\n",
            "Epoch 469/500\n",
            "58/58 [==============================] - 1s 21ms/step - loss: 0.0420 - accuracy: 0.9875 - val_loss: 2.2938 - val_accuracy: 0.8191\n",
            "Epoch 470/500\n",
            "58/58 [==============================] - 1s 21ms/step - loss: 0.0240 - accuracy: 0.9921 - val_loss: 2.3273 - val_accuracy: 0.8197\n",
            "Epoch 471/500\n",
            "58/58 [==============================] - 1s 21ms/step - loss: 0.0318 - accuracy: 0.9892 - val_loss: 2.2894 - val_accuracy: 0.8179\n",
            "Epoch 472/500\n",
            "58/58 [==============================] - 1s 22ms/step - loss: 0.0274 - accuracy: 0.9915 - val_loss: 2.3094 - val_accuracy: 0.8182\n",
            "Epoch 473/500\n",
            "58/58 [==============================] - 1s 22ms/step - loss: 0.0218 - accuracy: 0.9922 - val_loss: 2.3307 - val_accuracy: 0.8214\n",
            "Epoch 474/500\n",
            "58/58 [==============================] - 1s 21ms/step - loss: 0.0238 - accuracy: 0.9922 - val_loss: 2.3177 - val_accuracy: 0.8216\n",
            "Epoch 475/500\n",
            "58/58 [==============================] - 1s 22ms/step - loss: 0.0356 - accuracy: 0.9883 - val_loss: 2.2999 - val_accuracy: 0.8200\n",
            "Epoch 476/500\n",
            "58/58 [==============================] - 1s 23ms/step - loss: 0.0302 - accuracy: 0.9909 - val_loss: 2.3214 - val_accuracy: 0.8157\n",
            "Epoch 477/500\n",
            "58/58 [==============================] - 1s 22ms/step - loss: 0.0323 - accuracy: 0.9903 - val_loss: 2.3120 - val_accuracy: 0.8197\n",
            "Epoch 478/500\n",
            "58/58 [==============================] - 1s 22ms/step - loss: 0.0231 - accuracy: 0.9920 - val_loss: 2.2959 - val_accuracy: 0.8179\n",
            "Epoch 479/500\n",
            "58/58 [==============================] - 1s 21ms/step - loss: 0.0416 - accuracy: 0.9880 - val_loss: 2.3487 - val_accuracy: 0.8163\n",
            "Epoch 480/500\n",
            "58/58 [==============================] - 1s 22ms/step - loss: 0.0479 - accuracy: 0.9856 - val_loss: 2.3236 - val_accuracy: 0.8164\n",
            "Epoch 481/500\n",
            "58/58 [==============================] - 1s 21ms/step - loss: 0.0391 - accuracy: 0.9879 - val_loss: 2.3302 - val_accuracy: 0.8205\n",
            "Epoch 482/500\n",
            "58/58 [==============================] - 1s 22ms/step - loss: 0.0255 - accuracy: 0.9923 - val_loss: 2.3027 - val_accuracy: 0.8218\n",
            "Epoch 483/500\n",
            "58/58 [==============================] - 1s 22ms/step - loss: 0.0254 - accuracy: 0.9924 - val_loss: 2.3577 - val_accuracy: 0.8175\n",
            "Epoch 484/500\n",
            "58/58 [==============================] - 1s 21ms/step - loss: 0.0372 - accuracy: 0.9887 - val_loss: 2.3477 - val_accuracy: 0.8170\n",
            "Epoch 485/500\n",
            "58/58 [==============================] - 1s 21ms/step - loss: 0.0413 - accuracy: 0.9882 - val_loss: 2.3599 - val_accuracy: 0.8163\n",
            "Epoch 486/500\n",
            "58/58 [==============================] - 1s 21ms/step - loss: 0.0357 - accuracy: 0.9891 - val_loss: 2.3766 - val_accuracy: 0.8148\n",
            "Epoch 487/500\n",
            "58/58 [==============================] - 1s 21ms/step - loss: 0.0265 - accuracy: 0.9907 - val_loss: 2.3232 - val_accuracy: 0.8179\n",
            "Epoch 488/500\n",
            "58/58 [==============================] - 1s 22ms/step - loss: 0.0340 - accuracy: 0.9897 - val_loss: 2.3594 - val_accuracy: 0.8168\n",
            "Epoch 489/500\n",
            "58/58 [==============================] - 1s 22ms/step - loss: 0.0382 - accuracy: 0.9881 - val_loss: 2.3615 - val_accuracy: 0.8177\n",
            "Epoch 490/500\n",
            "58/58 [==============================] - 1s 21ms/step - loss: 0.0499 - accuracy: 0.9840 - val_loss: 2.3826 - val_accuracy: 0.8176\n",
            "Epoch 491/500\n",
            "58/58 [==============================] - 1s 22ms/step - loss: 0.0313 - accuracy: 0.9896 - val_loss: 2.3410 - val_accuracy: 0.8176\n",
            "Epoch 492/500\n",
            "58/58 [==============================] - 1s 21ms/step - loss: 0.0308 - accuracy: 0.9899 - val_loss: 2.3590 - val_accuracy: 0.8195\n",
            "Epoch 493/500\n",
            "58/58 [==============================] - 1s 22ms/step - loss: 0.0183 - accuracy: 0.9945 - val_loss: 2.3462 - val_accuracy: 0.8196\n",
            "Epoch 494/500\n",
            "58/58 [==============================] - 1s 20ms/step - loss: 0.0237 - accuracy: 0.9923 - val_loss: 2.3847 - val_accuracy: 0.8191\n",
            "Epoch 495/500\n",
            "58/58 [==============================] - 1s 21ms/step - loss: 0.0325 - accuracy: 0.9902 - val_loss: 2.3530 - val_accuracy: 0.8191\n",
            "Epoch 496/500\n",
            "58/58 [==============================] - 1s 21ms/step - loss: 0.0220 - accuracy: 0.9929 - val_loss: 2.3726 - val_accuracy: 0.8183\n",
            "Epoch 497/500\n",
            "58/58 [==============================] - 1s 22ms/step - loss: 0.0295 - accuracy: 0.9905 - val_loss: 2.3398 - val_accuracy: 0.8208\n",
            "Epoch 498/500\n",
            "58/58 [==============================] - 1s 21ms/step - loss: 0.0536 - accuracy: 0.9851 - val_loss: 2.3925 - val_accuracy: 0.8167\n",
            "Epoch 499/500\n",
            "58/58 [==============================] - 1s 21ms/step - loss: 0.0408 - accuracy: 0.9871 - val_loss: 2.3886 - val_accuracy: 0.8197\n",
            "Epoch 500/500\n",
            "58/58 [==============================] - 1s 20ms/step - loss: 0.0267 - accuracy: 0.9920 - val_loss: 2.3456 - val_accuracy: 0.8235\n"
          ],
          "name": "stdout"
        }
      ]
    },
    {
      "cell_type": "markdown",
      "metadata": {
        "id": "ZKMR0M7_BA_2"
      },
      "source": [
        "Plot the training loss, validation loss vs number of epochs and training accuracy, validation accuracy vs number of\r\n",
        "epochs plot and write your observations on the same"
      ]
    },
    {
      "cell_type": "code",
      "metadata": {
        "colab": {
          "base_uri": "https://localhost:8080/",
          "height": 295
        },
        "id": "AEw22djL-LOm",
        "outputId": "811cd931-388d-4587-d0ef-f5847a3a90ea"
      },
      "source": [
        "plt.plot(history.history['accuracy'])\r\n",
        "plt.plot(history.history['val_accuracy'])\r\n",
        "plt.plot(history.history['loss'])\r\n",
        "plt.title('model accuracy')\r\n",
        "plt.ylabel('accuracy / loss')\r\n",
        "plt.xlabel('epoch')\r\n",
        "plt.legend(['training', 'validation'], loc='best')\r\n",
        "plt.show()"
      ],
      "execution_count": 27,
      "outputs": [
        {
          "output_type": "display_data",
          "data": {
            "image/png": "[encoded data removed]",
            "text/plain": [
              "<Figure size 432x288 with 1 Axes>"
            ]
          },
          "metadata": {
            "tags": [],
            "needs_background": "light"
          }
        }
      ]
    },
    {
      "cell_type": "markdown",
      "metadata": {
        "id": "CiSwWcJj0PUo"
      },
      "source": [
        "OBSERVATION:\r\n",
        "As the epoc increases, the model training and validation accuracy increases but get saturated after few iteration.  The model is also over fit (training accuracy is about 98% but validation accuracy is ~82%.  This model needs further tuning to reduce the overfit. \r\n",
        "\r\n",
        "Overfit could be due:\r\n",
        "- Larget batch size (Small batch size will help to overcome local minima)\r\n",
        "- Reduce the number of weights by reducing number of neutrons\r\n",
        "- Too many epochs [early stopping will help]. Small batch size with too many epochs also will not be useful.\r\n",
        "- Use drop outs to reduce Over fit\r\n",
        "- Learning Rate Optimiization to reduce over fit\r\n",
        "\r\n",
        "\r\n"
      ]
    },
    {
      "cell_type": "code",
      "metadata": {
        "colab": {
          "base_uri": "https://localhost:8080/"
        },
        "id": "JMD_zBa9-0gu",
        "outputId": "51975af0-ae31-4dcd-8dd9-8590fd157404"
      },
      "source": [
        "loss, acc = model.evaluate(x_test, y_test, verbose=0)\r\n",
        "print('Accuracy: %.3f'  % acc)\r\n",
        "print('Loss: %.3f' % loss)"
      ],
      "execution_count": 28,
      "outputs": [
        {
          "output_type": "stream",
          "text": [
            "Accuracy: 0.825\n",
            "Loss: 2.217\n"
          ],
          "name": "stdout"
        }
      ]
    },
    {
      "cell_type": "code",
      "metadata": {
        "id": "2SRMJf61BF0u"
      },
      "source": [
        "y_predict = model.predict(x_test)"
      ],
      "execution_count": 29,
      "outputs": []
    },
    {
      "cell_type": "code",
      "metadata": {
        "colab": {
          "base_uri": "https://localhost:8080/"
        },
        "id": "RD9p7kIyBJjo",
        "outputId": "ff006214-52ec-4c74-89a7-6859e2a702b1"
      },
      "source": [
        "y_predict[0]"
      ],
      "execution_count": 30,
      "outputs": [
        {
          "output_type": "execute_result",
          "data": {
            "text/plain": [
              "array([1.2884540e-02, 9.8696822e-01, 4.1544132e-05, 3.0382524e-10,\n",
              "       6.3286003e-05, 5.6760946e-10, 1.0888523e-06, 3.8375714e-05,\n",
              "       3.5377645e-09, 2.8815650e-06], dtype=float32)"
            ]
          },
          "metadata": {
            "tags": []
          },
          "execution_count": 30
        }
      ]
    },
    {
      "cell_type": "code",
      "metadata": {
        "colab": {
          "base_uri": "https://localhost:8080/"
        },
        "id": "9nQyqygLBLp5",
        "outputId": "e6b0ca0f-d75f-48cd-a8dd-805fd9f7864d"
      },
      "source": [
        "np.argmax(y_predict[0])"
      ],
      "execution_count": 31,
      "outputs": [
        {
          "output_type": "execute_result",
          "data": {
            "text/plain": [
              "1"
            ]
          },
          "metadata": {
            "tags": []
          },
          "execution_count": 31
        }
      ]
    },
    {
      "cell_type": "code",
      "metadata": {
        "colab": {
          "base_uri": "https://localhost:8080/"
        },
        "id": "1P2Y1TboBNPp",
        "outputId": "7c3498ab-3452-493e-ebf8-926e7be1dafe"
      },
      "source": [
        "from sklearn import metrics\r\n",
        "y_pred = []\r\n",
        "for val in y_predict:\r\n",
        "    y_pred.append(np.argmax(val))\r\n",
        "  \r\n",
        "#convert 0 1 to 1 and 1 0 as 0\r\n",
        "cm = metrics.confusion_matrix(ytest, y_pred)\r\n",
        "print(cm)"
      ],
      "execution_count": 32,
      "outputs": [
        {
          "output_type": "stream",
          "text": [
            "[[1549   47   14   26   22    5   36   23   32   60]\n",
            " [  31 1536   30   31   43   17   22   61   29   28]\n",
            " [  16   27 1515   44   27   15    6   65   35   53]\n",
            " [  14   41   51 1329   20  113   23   36   49   43]\n",
            " [  23   57   33   22 1530   20   36   18   25   48]\n",
            " [  12   23   19   89   14 1423   82   14   47   45]\n",
            " [  49   30   21   22   35   66 1480   11   93   25]\n",
            " [  10   64   42   25   23    7    9 1586   17   25]\n",
            " [  38   35   27   49   27   40   87   16 1429   64]\n",
            " [  55   35   30   32   25   43   23   33   58 1470]]\n"
          ],
          "name": "stdout"
        }
      ]
    },
    {
      "cell_type": "code",
      "metadata": {
        "colab": {
          "base_uri": "https://localhost:8080/"
        },
        "id": "46FxaJIKlFyA",
        "outputId": "a2246e1f-8ce7-4f07-d42b-79d3841a9680"
      },
      "source": [
        "print(ytest.shape)"
      ],
      "execution_count": 33,
      "outputs": [
        {
          "output_type": "stream",
          "text": [
            "(18000,)\n"
          ],
          "name": "stdout"
        }
      ]
    },
    {
      "cell_type": "code",
      "metadata": {
        "colab": {
          "base_uri": "https://localhost:8080/"
        },
        "id": "ugIfi37YBQc0",
        "outputId": "935a4138-5655-4c0f-c759-eeffde237706"
      },
      "source": [
        "cr=metrics.classification_report(ytest,y_pred)\r\n",
        "print(cr)"
      ],
      "execution_count": 34,
      "outputs": [
        {
          "output_type": "stream",
          "text": [
            "              precision    recall  f1-score   support\n",
            "\n",
            "           0       0.86      0.85      0.86      1814\n",
            "           1       0.81      0.84      0.83      1828\n",
            "           2       0.85      0.84      0.85      1803\n",
            "           3       0.80      0.77      0.78      1719\n",
            "           4       0.87      0.84      0.86      1812\n",
            "           5       0.81      0.80      0.81      1768\n",
            "           6       0.82      0.81      0.81      1832\n",
            "           7       0.85      0.88      0.86      1808\n",
            "           8       0.79      0.79      0.79      1812\n",
            "           9       0.79      0.81      0.80      1804\n",
            "\n",
            "    accuracy                           0.82     18000\n",
            "   macro avg       0.82      0.82      0.82     18000\n",
            "weighted avg       0.82      0.82      0.82     18000\n",
            "\n"
          ],
          "name": "stdout"
        }
      ]
    },
    {
      "cell_type": "markdown",
      "metadata": {
        "id": "e7qr6xT40p5p"
      },
      "source": [
        "4. TUNE THE MODEL TO REDUCE THE OVERFIT [ Batch normalization, Drop out, smaller batch size, less epoch, early stopping]"
      ]
    },
    {
      "cell_type": "code",
      "metadata": {
        "id": "admGCDpO00W-"
      },
      "source": [
        "#initilaize the model \r\n",
        "model_1 = tf.keras.models.Sequential()"
      ],
      "execution_count": 78,
      "outputs": []
    },
    {
      "cell_type": "code",
      "metadata": {
        "id": "N2MDexf767bS"
      },
      "source": [
        "#Reshape the data (following rehsape method does the same as Flatten). each cell has 32, 32 -> 32*32 = 1024\r\n",
        "model_1.add (tf.keras.layers.Reshape( (1024,), input_shape=(32,32,)))"
      ],
      "execution_count": 79,
      "outputs": []
    },
    {
      "cell_type": "code",
      "metadata": {
        "id": "o84NuuJd7CD4"
      },
      "source": [
        "#normalize data\r\n",
        "model_1.add(tf.keras.layers.BatchNormalization())\r\n",
        "\r\n",
        "# Add Fully connected layer \r\n",
        "model_1.add(tf.keras.layers.Dense (50, activation='relu'))\r\n",
        "#model_1.add(tf.keras.layers.Dropout(rate=0.2))  #Drop out layer\r\n",
        "\r\n",
        "model_1.add(tf.keras.layers.BatchNormalization())\r\n",
        "model_1.add(tf.keras.layers.Dense (50, activation='relu'))\r\n",
        "\r\n",
        "model_1.add(tf.keras.layers.Dropout(rate=0.2))  #Drop out layer\r\n",
        "\r\n",
        "#Add output layer \r\n",
        "model_1.add(tf.keras.layers.Dense (10, activation='softmax'))\r\n",
        "\r\n"
      ],
      "execution_count": 80,
      "outputs": []
    },
    {
      "cell_type": "code",
      "metadata": {
        "id": "BHmHK38Z-uA6"
      },
      "source": [
        "from tensorflow.keras.callbacks import EarlyStopping\r\n",
        "es = EarlyStopping(monitor='val_loss', mode='min', verbose=1 )"
      ],
      "execution_count": 81,
      "outputs": []
    },
    {
      "cell_type": "code",
      "metadata": {
        "id": "b0Mb2wpN7NdT"
      },
      "source": [
        "#Complie the model with loss and optimizer\r\n",
        "model_1.compile(optimizer='adam',\r\n",
        "              loss=tf.keras.losses.CategoricalCrossentropy(from_logits=True),\r\n",
        "              metrics=['accuracy']) "
      ],
      "execution_count": 82,
      "outputs": []
    },
    {
      "cell_type": "code",
      "metadata": {
        "colab": {
          "base_uri": "https://localhost:8080/"
        },
        "id": "58wACgat7QOQ",
        "outputId": "fb2b5973-9ad5-4641-f1f0-d4d2ccd02767"
      },
      "source": [
        "#FIt the model \r\n",
        "history = model_1.fit(x_train, y_train, epochs=50, batch_size=256, validation_split=.3, verbose=1, callbacks = [es])"
      ],
      "execution_count": 83,
      "outputs": [
        {
          "output_type": "stream",
          "text": [
            "Epoch 1/50\n",
            "115/115 [==============================] - 2s 11ms/step - loss: 2.2573 - accuracy: 0.1965 - val_loss: 1.5184 - val_accuracy: 0.5423\n",
            "Epoch 2/50\n",
            "115/115 [==============================] - 1s 10ms/step - loss: 1.4611 - accuracy: 0.5277 - val_loss: 1.1525 - val_accuracy: 0.6591\n",
            "Epoch 3/50\n",
            "115/115 [==============================] - 1s 10ms/step - loss: 1.1728 - accuracy: 0.6348 - val_loss: 1.0136 - val_accuracy: 0.6969\n",
            "Epoch 4/50\n",
            "115/115 [==============================] - 1s 10ms/step - loss: 1.0570 - accuracy: 0.6699 - val_loss: 0.9326 - val_accuracy: 0.7165\n",
            "Epoch 5/50\n",
            "115/115 [==============================] - 1s 10ms/step - loss: 0.9687 - accuracy: 0.6960 - val_loss: 0.8592 - val_accuracy: 0.7413\n",
            "Epoch 6/50\n",
            "115/115 [==============================] - 1s 9ms/step - loss: 0.9068 - accuracy: 0.7185 - val_loss: 0.8304 - val_accuracy: 0.7517\n",
            "Epoch 7/50\n",
            "115/115 [==============================] - 1s 10ms/step - loss: 0.8593 - accuracy: 0.7342 - val_loss: 0.7860 - val_accuracy: 0.7637\n",
            "Epoch 8/50\n",
            "115/115 [==============================] - 1s 9ms/step - loss: 0.8080 - accuracy: 0.7498 - val_loss: 0.7739 - val_accuracy: 0.7664\n",
            "Epoch 9/50\n",
            "115/115 [==============================] - 1s 9ms/step - loss: 0.7690 - accuracy: 0.7608 - val_loss: 0.7601 - val_accuracy: 0.7695\n",
            "Epoch 10/50\n",
            "115/115 [==============================] - 1s 10ms/step - loss: 0.7413 - accuracy: 0.7725 - val_loss: 0.7523 - val_accuracy: 0.7722\n",
            "Epoch 11/50\n",
            "115/115 [==============================] - 1s 9ms/step - loss: 0.7207 - accuracy: 0.7765 - val_loss: 0.7174 - val_accuracy: 0.7849\n",
            "Epoch 12/50\n",
            "115/115 [==============================] - 1s 9ms/step - loss: 0.7159 - accuracy: 0.7782 - val_loss: 0.7177 - val_accuracy: 0.7838\n",
            "Epoch 00012: early stopping\n"
          ],
          "name": "stdout"
        }
      ]
    },
    {
      "cell_type": "code",
      "metadata": {
        "colab": {
          "base_uri": "https://localhost:8080/",
          "height": 295
        },
        "id": "8-Wdk5lz7TI4",
        "outputId": "a9e3c22f-25ae-4c96-b9a8-cd1e9477a08c"
      },
      "source": [
        "plt.plot(history.history['accuracy'])\r\n",
        "plt.plot(history.history['val_accuracy'])\r\n",
        "plt.plot(history.history['loss'])\r\n",
        "plt.title('model accuracy')\r\n",
        "plt.ylabel('accuracy / loss')\r\n",
        "plt.xlabel('epoch')\r\n",
        "plt.legend(['training', 'validation'], loc='best')\r\n",
        "plt.show()"
      ],
      "execution_count": 85,
      "outputs": [
        {
          "output_type": "display_data",
          "data": {
            "image/png": "[encoded data removed]",
            "text/plain": [
              "<Figure size 432x288 with 1 Axes>"
            ]
          },
          "metadata": {
            "tags": [],
            "needs_background": "light"
          }
        }
      ]
    },
    {
      "cell_type": "code",
      "metadata": {
        "colab": {
          "base_uri": "https://localhost:8080/"
        },
        "id": "ya28TMz47VDx",
        "outputId": "5822a9b7-6ca5-40ee-fa96-f419e6977118"
      },
      "source": [
        "loss, acc = model_1.evaluate(x_test, y_test, verbose=0)\r\n",
        "print('Accuracy: %.3f'  % acc)\r\n",
        "print('Loss: %.3f' % loss)"
      ],
      "execution_count": 86,
      "outputs": [
        {
          "output_type": "stream",
          "text": [
            "Accuracy: 0.789\n",
            "Loss: 0.712\n"
          ],
          "name": "stdout"
        }
      ]
    },
    {
      "cell_type": "code",
      "metadata": {
        "colab": {
          "base_uri": "https://localhost:8080/"
        },
        "id": "43emJXYsGZbf",
        "outputId": "d5062564-3874-4447-8f9f-87055ce1725d"
      },
      "source": [
        "#FIt the model -> without early stopping\r\n",
        "history = model_1.fit(x_train, y_train, epochs=50, batch_size=512, validation_split=.3, verbose=1)"
      ],
      "execution_count": 87,
      "outputs": [
        {
          "output_type": "stream",
          "text": [
            "Epoch 1/50\n",
            "58/58 [==============================] - 1s 16ms/step - loss: 0.6572 - accuracy: 0.7973 - val_loss: 0.6870 - val_accuracy: 0.7941\n",
            "Epoch 2/50\n",
            "58/58 [==============================] - 1s 15ms/step - loss: 0.6377 - accuracy: 0.8015 - val_loss: 0.6898 - val_accuracy: 0.7937\n",
            "Epoch 3/50\n",
            "58/58 [==============================] - 1s 15ms/step - loss: 0.6226 - accuracy: 0.8089 - val_loss: 0.6707 - val_accuracy: 0.7995\n",
            "Epoch 4/50\n",
            "58/58 [==============================] - 1s 15ms/step - loss: 0.6202 - accuracy: 0.8090 - val_loss: 0.6716 - val_accuracy: 0.8000\n",
            "Epoch 5/50\n",
            "58/58 [==============================] - 1s 15ms/step - loss: 0.6148 - accuracy: 0.8094 - val_loss: 0.6806 - val_accuracy: 0.7957\n",
            "Epoch 6/50\n",
            "58/58 [==============================] - 1s 15ms/step - loss: 0.6087 - accuracy: 0.8105 - val_loss: 0.6507 - val_accuracy: 0.8074\n",
            "Epoch 7/50\n",
            "58/58 [==============================] - 1s 15ms/step - loss: 0.5982 - accuracy: 0.8157 - val_loss: 0.6678 - val_accuracy: 0.8021\n",
            "Epoch 8/50\n",
            "58/58 [==============================] - 1s 15ms/step - loss: 0.5983 - accuracy: 0.8136 - val_loss: 0.6702 - val_accuracy: 0.7975\n",
            "Epoch 9/50\n",
            "58/58 [==============================] - 1s 15ms/step - loss: 0.5877 - accuracy: 0.8175 - val_loss: 0.6501 - val_accuracy: 0.8054\n",
            "Epoch 10/50\n",
            "58/58 [==============================] - 1s 15ms/step - loss: 0.5751 - accuracy: 0.8207 - val_loss: 0.6481 - val_accuracy: 0.8088\n",
            "Epoch 11/50\n",
            "58/58 [==============================] - 1s 14ms/step - loss: 0.5651 - accuracy: 0.8240 - val_loss: 0.6370 - val_accuracy: 0.8110\n",
            "Epoch 12/50\n",
            "58/58 [==============================] - 1s 15ms/step - loss: 0.5651 - accuracy: 0.8245 - val_loss: 0.6383 - val_accuracy: 0.8114\n",
            "Epoch 13/50\n",
            "58/58 [==============================] - 1s 15ms/step - loss: 0.5567 - accuracy: 0.8273 - val_loss: 0.6442 - val_accuracy: 0.8087\n",
            "Epoch 14/50\n",
            "58/58 [==============================] - 1s 15ms/step - loss: 0.5578 - accuracy: 0.8270 - val_loss: 0.6251 - val_accuracy: 0.8153\n",
            "Epoch 15/50\n",
            "58/58 [==============================] - 1s 13ms/step - loss: 0.5506 - accuracy: 0.8273 - val_loss: 0.6321 - val_accuracy: 0.8104\n",
            "Epoch 16/50\n",
            "58/58 [==============================] - 1s 15ms/step - loss: 0.5530 - accuracy: 0.8264 - val_loss: 0.6253 - val_accuracy: 0.8137\n",
            "Epoch 17/50\n",
            "58/58 [==============================] - 1s 15ms/step - loss: 0.5437 - accuracy: 0.8300 - val_loss: 0.6213 - val_accuracy: 0.8173\n",
            "Epoch 18/50\n",
            "58/58 [==============================] - 1s 15ms/step - loss: 0.5324 - accuracy: 0.8367 - val_loss: 0.6199 - val_accuracy: 0.8164\n",
            "Epoch 19/50\n",
            "58/58 [==============================] - 1s 15ms/step - loss: 0.5253 - accuracy: 0.8371 - val_loss: 0.6384 - val_accuracy: 0.8130\n",
            "Epoch 20/50\n",
            "58/58 [==============================] - 1s 16ms/step - loss: 0.5235 - accuracy: 0.8351 - val_loss: 0.6274 - val_accuracy: 0.8152\n",
            "Epoch 21/50\n",
            "58/58 [==============================] - 1s 15ms/step - loss: 0.5149 - accuracy: 0.8381 - val_loss: 0.6223 - val_accuracy: 0.8176\n",
            "Epoch 22/50\n",
            "58/58 [==============================] - 1s 15ms/step - loss: 0.5203 - accuracy: 0.8386 - val_loss: 0.6334 - val_accuracy: 0.8144\n",
            "Epoch 23/50\n",
            "58/58 [==============================] - 1s 15ms/step - loss: 0.5129 - accuracy: 0.8401 - val_loss: 0.6516 - val_accuracy: 0.8076\n",
            "Epoch 24/50\n",
            "58/58 [==============================] - 1s 16ms/step - loss: 0.5118 - accuracy: 0.8398 - val_loss: 0.6129 - val_accuracy: 0.8195\n",
            "Epoch 25/50\n",
            "58/58 [==============================] - 1s 16ms/step - loss: 0.5038 - accuracy: 0.8427 - val_loss: 0.6295 - val_accuracy: 0.8174\n",
            "Epoch 26/50\n",
            "58/58 [==============================] - 1s 15ms/step - loss: 0.5039 - accuracy: 0.8419 - val_loss: 0.6187 - val_accuracy: 0.8205\n",
            "Epoch 27/50\n",
            "58/58 [==============================] - 1s 15ms/step - loss: 0.4938 - accuracy: 0.8447 - val_loss: 0.6166 - val_accuracy: 0.8214\n",
            "Epoch 28/50\n",
            "58/58 [==============================] - 1s 15ms/step - loss: 0.5044 - accuracy: 0.8419 - val_loss: 0.6392 - val_accuracy: 0.8131\n",
            "Epoch 29/50\n",
            "58/58 [==============================] - 1s 16ms/step - loss: 0.4955 - accuracy: 0.8447 - val_loss: 0.6037 - val_accuracy: 0.8233\n",
            "Epoch 30/50\n",
            "58/58 [==============================] - 1s 15ms/step - loss: 0.4891 - accuracy: 0.8486 - val_loss: 0.6164 - val_accuracy: 0.8199\n",
            "Epoch 31/50\n",
            "58/58 [==============================] - 1s 15ms/step - loss: 0.4907 - accuracy: 0.8451 - val_loss: 0.6228 - val_accuracy: 0.8172\n",
            "Epoch 32/50\n",
            "58/58 [==============================] - 1s 16ms/step - loss: 0.4820 - accuracy: 0.8513 - val_loss: 0.6162 - val_accuracy: 0.8224\n",
            "Epoch 33/50\n",
            "58/58 [==============================] - 1s 16ms/step - loss: 0.4771 - accuracy: 0.8512 - val_loss: 0.6109 - val_accuracy: 0.8233\n",
            "Epoch 34/50\n",
            "58/58 [==============================] - 1s 15ms/step - loss: 0.4775 - accuracy: 0.8504 - val_loss: 0.6005 - val_accuracy: 0.8267\n",
            "Epoch 35/50\n",
            "58/58 [==============================] - 1s 16ms/step - loss: 0.4754 - accuracy: 0.8507 - val_loss: 0.6102 - val_accuracy: 0.8241\n",
            "Epoch 36/50\n",
            "58/58 [==============================] - 1s 15ms/step - loss: 0.4712 - accuracy: 0.8510 - val_loss: 0.6074 - val_accuracy: 0.8259\n",
            "Epoch 37/50\n",
            "58/58 [==============================] - 1s 16ms/step - loss: 0.4670 - accuracy: 0.8546 - val_loss: 0.6216 - val_accuracy: 0.8202\n",
            "Epoch 38/50\n",
            "58/58 [==============================] - 1s 15ms/step - loss: 0.4686 - accuracy: 0.8516 - val_loss: 0.6246 - val_accuracy: 0.8187\n",
            "Epoch 39/50\n",
            "58/58 [==============================] - 1s 16ms/step - loss: 0.4629 - accuracy: 0.8552 - val_loss: 0.6123 - val_accuracy: 0.8252\n",
            "Epoch 40/50\n",
            "58/58 [==============================] - 1s 15ms/step - loss: 0.4648 - accuracy: 0.8533 - val_loss: 0.6582 - val_accuracy: 0.8104\n",
            "Epoch 41/50\n",
            "58/58 [==============================] - 1s 16ms/step - loss: 0.4653 - accuracy: 0.8529 - val_loss: 0.6297 - val_accuracy: 0.8179\n",
            "Epoch 42/50\n",
            "58/58 [==============================] - 1s 16ms/step - loss: 0.4591 - accuracy: 0.8567 - val_loss: 0.6088 - val_accuracy: 0.8257\n",
            "Epoch 43/50\n",
            "58/58 [==============================] - 1s 16ms/step - loss: 0.4545 - accuracy: 0.8574 - val_loss: 0.6191 - val_accuracy: 0.8200\n",
            "Epoch 44/50\n",
            "58/58 [==============================] - 1s 17ms/step - loss: 0.4597 - accuracy: 0.8544 - val_loss: 0.6177 - val_accuracy: 0.8240\n",
            "Epoch 45/50\n",
            "58/58 [==============================] - 1s 16ms/step - loss: 0.4501 - accuracy: 0.8585 - val_loss: 0.6190 - val_accuracy: 0.8216\n",
            "Epoch 46/50\n",
            "58/58 [==============================] - 1s 16ms/step - loss: 0.4515 - accuracy: 0.8570 - val_loss: 0.6238 - val_accuracy: 0.8212\n",
            "Epoch 47/50\n",
            "58/58 [==============================] - 1s 15ms/step - loss: 0.4506 - accuracy: 0.8583 - val_loss: 0.6089 - val_accuracy: 0.8236\n",
            "Epoch 48/50\n",
            "58/58 [==============================] - 1s 16ms/step - loss: 0.4464 - accuracy: 0.8582 - val_loss: 0.6096 - val_accuracy: 0.8244\n",
            "Epoch 49/50\n",
            "58/58 [==============================] - 1s 15ms/step - loss: 0.4511 - accuracy: 0.8592 - val_loss: 0.6104 - val_accuracy: 0.8256\n",
            "Epoch 50/50\n",
            "58/58 [==============================] - 1s 16ms/step - loss: 0.4492 - accuracy: 0.8596 - val_loss: 0.6054 - val_accuracy: 0.8273\n"
          ],
          "name": "stdout"
        }
      ]
    },
    {
      "cell_type": "code",
      "metadata": {
        "colab": {
          "base_uri": "https://localhost:8080/"
        },
        "id": "-KQdkFSSGLHJ",
        "outputId": "d34a0917-8e73-4d38-c792-b40728c3ac0c"
      },
      "source": [
        "model_1.summary()"
      ],
      "execution_count": 89,
      "outputs": [
        {
          "output_type": "stream",
          "text": [
            "Model: \"sequential_4\"\n",
            "_________________________________________________________________\n",
            "Layer (type)                 Output Shape              Param #   \n",
            "=================================================================\n",
            "reshape_3 (Reshape)          (None, 1024)              0         \n",
            "_________________________________________________________________\n",
            "batch_normalization_9 (Batch (None, 1024)              4096      \n",
            "_________________________________________________________________\n",
            "dense_14 (Dense)             (None, 50)                51250     \n",
            "_________________________________________________________________\n",
            "batch_normalization_10 (Batc (None, 50)                200       \n",
            "_________________________________________________________________\n",
            "dense_15 (Dense)             (None, 50)                2550      \n",
            "_________________________________________________________________\n",
            "dropout_5 (Dropout)          (None, 50)                0         \n",
            "_________________________________________________________________\n",
            "dense_16 (Dense)             (None, 10)                510       \n",
            "=================================================================\n",
            "Total params: 58,606\n",
            "Trainable params: 56,458\n",
            "Non-trainable params: 2,148\n",
            "_________________________________________________________________\n"
          ],
          "name": "stdout"
        }
      ]
    },
    {
      "cell_type": "code",
      "metadata": {
        "colab": {
          "base_uri": "https://localhost:8080/",
          "height": 295
        },
        "id": "t3_j0jbSG3Ze",
        "outputId": "389a0b70-c6eb-48ac-e90f-ac8c6e0d2edb"
      },
      "source": [
        "plt.plot(history.history['accuracy'])\r\n",
        "plt.plot(history.history['val_accuracy'])\r\n",
        "plt.plot(history.history['loss'])\r\n",
        "plt.title('model accuracy')\r\n",
        "plt.ylabel('accuracy / loss')\r\n",
        "plt.xlabel('epoch')\r\n",
        "plt.legend(['training', 'validation'], loc='best')\r\n",
        "plt.show()"
      ],
      "execution_count": 90,
      "outputs": [
        {
          "output_type": "display_data",
          "data": {
            "image/png": "[encoded data removed]",
            "text/plain": [
              "<Figure size 432x288 with 1 Axes>"
            ]
          },
          "metadata": {
            "tags": [],
            "needs_background": "light"
          }
        }
      ]
    },
    {
      "cell_type": "markdown",
      "metadata": {
        "id": "VdMC1YCDJg8s"
      },
      "source": [
        "OBSERVATION:[link text](https://)\r\n",
        "1.  As the epoc increases, the model is becoming overvit (training and validaiton accuracy gap increases)\r\n"
      ]
    },
    {
      "cell_type": "code",
      "metadata": {
        "colab": {
          "base_uri": "https://localhost:8080/"
        },
        "id": "Wcgv8AlWJSMb",
        "outputId": "b80ff1e2-dcd6-4484-e58b-e3972e85a47f"
      },
      "source": [
        "loss, acc = model_1.evaluate(x_test, y_test, verbose=0)\r\n",
        "print('Accuracy: %.3f'  % acc)\r\n",
        "print('Loss: %.3f' % loss)"
      ],
      "execution_count": 91,
      "outputs": [
        {
          "output_type": "stream",
          "text": [
            "Accuracy: 0.831\n",
            "Loss: 0.604\n"
          ],
          "name": "stdout"
        }
      ]
    },
    {
      "cell_type": "code",
      "metadata": {
        "colab": {
          "base_uri": "https://localhost:8080/"
        },
        "id": "KcoJfjI7JYSZ",
        "outputId": "00bafe93-4413-4c5b-9fcb-9a616d6762e2"
      },
      "source": [
        "### Batch 128 and Early stopping\r\n",
        "#FIt the model \r\n",
        "history = model_1.fit(x_train, y_train, epochs=50, batch_size=128, validation_split=.3, verbose=1, callbacks = [es])"
      ],
      "execution_count": 96,
      "outputs": [
        {
          "output_type": "stream",
          "text": [
            "Epoch 1/50\n",
            "230/230 [==============================] - 1s 6ms/step - loss: 0.4755 - accuracy: 0.8501 - val_loss: 0.5756 - val_accuracy: 0.8374\n",
            "Epoch 2/50\n",
            "230/230 [==============================] - 1s 6ms/step - loss: 0.4644 - accuracy: 0.8517 - val_loss: 0.5738 - val_accuracy: 0.8372\n",
            "Epoch 3/50\n",
            "230/230 [==============================] - 1s 6ms/step - loss: 0.4600 - accuracy: 0.8535 - val_loss: 0.5724 - val_accuracy: 0.8382\n",
            "Epoch 4/50\n",
            "230/230 [==============================] - 1s 6ms/step - loss: 0.4580 - accuracy: 0.8529 - val_loss: 0.5738 - val_accuracy: 0.8390\n",
            "Epoch 00004: early stopping\n"
          ],
          "name": "stdout"
        }
      ]
    },
    {
      "cell_type": "code",
      "metadata": {
        "colab": {
          "base_uri": "https://localhost:8080/"
        },
        "id": "J0tWB6yvKczi",
        "outputId": "9fbefb75-35db-463b-c312-12c41b5a7b57"
      },
      "source": [
        "loss, acc = model_1.evaluate(x_test, y_test, verbose=0)\r\n",
        "print('Accuracy: %.3f'  % acc)\r\n",
        "print('Loss: %.3f' % loss)"
      ],
      "execution_count": 97,
      "outputs": [
        {
          "output_type": "stream",
          "text": [
            "Accuracy: 0.840\n",
            "Loss: 0.567\n"
          ],
          "name": "stdout"
        }
      ]
    },
    {
      "cell_type": "code",
      "metadata": {
        "colab": {
          "base_uri": "https://localhost:8080/"
        },
        "id": "Qe5_nQorKvHU",
        "outputId": "d5c1ddf5-9d98-4c7c-f6e8-64c56232048c"
      },
      "source": [
        "### Batch 128 and Early stopping with initial model with lot of Neurons. (clearly shows overfitting)\r\n",
        "#FIt the model \r\n",
        "history = model.fit(x_train, y_train, epochs=50, batch_size=128, validation_split=.3, verbose=1, callbacks = [es])"
      ],
      "execution_count": 99,
      "outputs": [
        {
          "output_type": "stream",
          "text": [
            "Epoch 1/50\n",
            "230/230 [==============================] - 2s 7ms/step - loss: 1.0073 - accuracy: 0.8582 - val_loss: 2.2282 - val_accuracy: 0.7949\n",
            "Epoch 2/50\n",
            "230/230 [==============================] - 2s 7ms/step - loss: 0.3886 - accuracy: 0.9171 - val_loss: 2.1468 - val_accuracy: 0.8039\n",
            "Epoch 3/50\n",
            "230/230 [==============================] - 2s 7ms/step - loss: 0.2436 - accuracy: 0.9384 - val_loss: 2.0921 - val_accuracy: 0.8093\n",
            "Epoch 4/50\n",
            "230/230 [==============================] - 2s 7ms/step - loss: 0.2042 - accuracy: 0.9445 - val_loss: 2.0923 - val_accuracy: 0.8093\n",
            "Epoch 00004: early stopping\n"
          ],
          "name": "stdout"
        }
      ]
    },
    {
      "cell_type": "markdown",
      "metadata": {
        "id": "8Qp2PZ4_LIBa"
      },
      "source": [
        "5. TUNE THE MODEL with just one Dense layer with 1024 neurons"
      ]
    },
    {
      "cell_type": "code",
      "metadata": {
        "id": "y0jL057QLUM6"
      },
      "source": [
        "#initilaize the model \r\n",
        "model_2 = tf.keras.models.Sequential()\r\n",
        "\r\n",
        "#Reshape the data (following rehsape method does the same as Flatten). each cell has 32, 32 -> 32*32 = 1024\r\n",
        "model_2.add (tf.keras.layers.Reshape( (1024,), input_shape=(32,32,)))\r\n",
        "\r\n",
        "\r\n",
        "#normalize data\r\n",
        "model_2.add(tf.keras.layers.BatchNormalization())\r\n",
        "\r\n",
        "# Add Fully connected layer \r\n",
        "model_2.add(tf.keras.layers.Dense (1024, activation='relu'))\r\n",
        "model_2.add(tf.keras.layers.Dropout(rate=0.2))  #Drop out layer\r\n",
        "\r\n",
        "#Add output layer \r\n",
        "model_2.add(tf.keras.layers.Dense (10, activation='softmax'))\r\n"
      ],
      "execution_count": 106,
      "outputs": []
    },
    {
      "cell_type": "code",
      "metadata": {
        "id": "XG--M9XELsmi"
      },
      "source": [
        "from tensorflow.keras.callbacks import EarlyStopping\r\n",
        "es = EarlyStopping(monitor='val_loss', mode='min', verbose=1 )\r\n",
        "\r\n",
        "\r\n",
        "#Complie the model with loss and optimizer\r\n",
        "model_2.compile(optimizer='adam',\r\n",
        "              loss=tf.keras.losses.CategoricalCrossentropy(from_logits=True),\r\n",
        "              metrics=['accuracy']) "
      ],
      "execution_count": 107,
      "outputs": []
    },
    {
      "cell_type": "code",
      "metadata": {
        "colab": {
          "base_uri": "https://localhost:8080/"
        },
        "id": "q8RlTo8lLq-T",
        "outputId": "d52fbde2-e25b-4b17-d681-cd410dbc6a35"
      },
      "source": [
        "\r\n",
        "#FIt the model \r\n",
        "history = model_2.fit(x_train, y_train, epochs=50, batch_size=128, validation_split=.3, verbose=1, callbacks = [es])"
      ],
      "execution_count": 108,
      "outputs": [
        {
          "output_type": "stream",
          "text": [
            "Epoch 1/50\n",
            "230/230 [==============================] - 8s 32ms/step - loss: 2.2023 - accuracy: 0.3671 - val_loss: 1.0782 - val_accuracy: 0.6753\n",
            "Epoch 2/50\n",
            "230/230 [==============================] - 7s 31ms/step - loss: 1.1084 - accuracy: 0.6626 - val_loss: 0.9090 - val_accuracy: 0.7304\n",
            "Epoch 3/50\n",
            "230/230 [==============================] - 7s 31ms/step - loss: 0.8972 - accuracy: 0.7267 - val_loss: 0.7611 - val_accuracy: 0.7759\n",
            "Epoch 4/50\n",
            "230/230 [==============================] - 7s 30ms/step - loss: 0.7908 - accuracy: 0.7594 - val_loss: 0.7141 - val_accuracy: 0.7937\n",
            "Epoch 5/50\n",
            "230/230 [==============================] - 7s 31ms/step - loss: 0.7163 - accuracy: 0.7821 - val_loss: 0.7097 - val_accuracy: 0.7914\n",
            "Epoch 6/50\n",
            "230/230 [==============================] - 7s 31ms/step - loss: 0.6770 - accuracy: 0.7973 - val_loss: 0.6910 - val_accuracy: 0.8063\n",
            "Epoch 7/50\n",
            "230/230 [==============================] - 7s 31ms/step - loss: 0.6318 - accuracy: 0.8101 - val_loss: 0.6656 - val_accuracy: 0.8126\n",
            "Epoch 8/50\n",
            "230/230 [==============================] - 7s 31ms/step - loss: 0.6050 - accuracy: 0.8162 - val_loss: 0.6428 - val_accuracy: 0.8218\n",
            "Epoch 9/50\n",
            "230/230 [==============================] - 7s 31ms/step - loss: 0.5810 - accuracy: 0.8283 - val_loss: 0.6670 - val_accuracy: 0.8207\n",
            "Epoch 00009: early stopping\n"
          ],
          "name": "stdout"
        }
      ]
    },
    {
      "cell_type": "code",
      "metadata": {
        "colab": {
          "base_uri": "https://localhost:8080/",
          "height": 295
        },
        "id": "Z4jJ3HEkMv4m",
        "outputId": "eef51458-e1c1-4c48-819d-685786f7ac5e"
      },
      "source": [
        "plt.plot(history.history['accuracy'])\r\n",
        "plt.plot(history.history['val_accuracy'])\r\n",
        "plt.plot(history.history['loss'])\r\n",
        "plt.title('model accuracy')\r\n",
        "plt.ylabel('accuracy / loss')\r\n",
        "plt.xlabel('epoch')\r\n",
        "plt.legend(['training', 'validation'], loc='best')\r\n",
        "plt.show()"
      ],
      "execution_count": 109,
      "outputs": [
        {
          "output_type": "display_data",
          "data": {
            "image/png": "[encoded data removed]",
            "text/plain": [
              "<Figure size 432x288 with 1 Axes>"
            ]
          },
          "metadata": {
            "tags": [],
            "needs_background": "light"
          }
        }
      ]
    },
    {
      "cell_type": "code",
      "metadata": {
        "colab": {
          "base_uri": "https://localhost:8080/"
        },
        "id": "0ysjMk9_MyT6",
        "outputId": "ace77a8c-5ba1-4bce-ec8e-972648dfd370"
      },
      "source": [
        "loss, acc = model_2.evaluate(x_test, y_test, verbose=0)\r\n",
        "print('Accuracy: %.3f'  % acc)\r\n",
        "print('Loss: %.3f' % loss)"
      ],
      "execution_count": 111,
      "outputs": [
        {
          "output_type": "stream",
          "text": [
            "Accuracy: 0.815\n",
            "Loss: 0.670\n"
          ],
          "name": "stdout"
        }
      ]
    },
    {
      "cell_type": "markdown",
      "metadata": {
        "id": "kKBJG4xiM7kK"
      },
      "source": [
        "OBSERVATION:\r\n",
        "1. Batch size, number of neurons, number of Dense layer, Epocs, Batch size -=> all affects the Model performance\r\n",
        "2. Correct combination of above said parameters will lead to model with best fit \r\n",
        "3. With tuning demonstrated above, model 1 (2 dense layer, having 50 neurons, with batch normlaizaiton and drop out) gave better accuracy (0.84) and loss (0.567) when fit was performed with batch size of 128. The same model with different batch size (512 and 1024 didn't provide better results)\r\n"
      ]
    }
  ]
}